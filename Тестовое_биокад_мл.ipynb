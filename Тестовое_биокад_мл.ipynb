{
 "cells": [
  {
   "cell_type": "markdown",
   "id": "50b7adeb-b7d2-4fdd-9e70-0b87ff2338a9",
   "metadata": {},
   "source": [
    "# Стажер в отдел ML в структурной биоинформатике"
   ]
  },
  {
   "cell_type": "markdown",
   "id": "11fb1299-49c4-4c80-9c69-2cec96bf152d",
   "metadata": {},
   "source": [
    "### Вероника Карпушенкова | MSc-1 Skoltech | Life Sciences | 2025\n",
    "### Veronika.Karpushenkova@skoltech.ru\n",
    "### @VeronikaKarp (telegram)"
   ]
  },
  {
   "cell_type": "markdown",
   "id": "3438e89f-8411-420c-acaa-8be60df6995c",
   "metadata": {},
   "source": [
    "Описание тестового задания:<br>\n",
    "Реализовать простую модель машинного обучения, ĸоторая предсĸазывает знаĸ изменения\n",
    "свободной энергии связывания (ddG) на основе данных из базы SKEMPI 2.0. Необходимо\n",
    "продемонстрировать, что модель обучается (ĸачеством модели можно пренебречь в рамĸах\n",
    "тестового задания). Если не удаётся обучить модель или добиться ожидаемой обучаемости,\n",
    "просьба всё равно предоставить весь разработанный ĸод и описать проделанные шаги. Это\n",
    "позволит нам оценить ваш подход ĸ решению задачи и уровень владения инструментами\n",
    "для работы с данными и моделями машинного обучения.<br>\n",
    "Требования ĸ выполненной работе:<br>\n",
    ". Код должен быть загружен в виде репозитория на GitHub с публичным доступом.<br>\n",
    ". Должны быть даны ĸомментарии ĸ ĸоду и описан ход ваших размышлений.<br>\n",
    "Контаĸты:<br>\n",
    "Если у вас возниĸнут вопросы по формулировĸе или содержанию тестового задания, можно\n",
    "писать на почту: zenkova@biocad.ru\n"
   ]
  },
  {
   "cell_type": "markdown",
   "id": "cc74b99f-b038-4b2f-a86f-27fd6498652b",
   "metadata": {},
   "source": [
    "### Подгрузим нужные нам пакеты"
   ]
  },
  {
   "cell_type": "code",
   "execution_count": 1,
   "id": "9e6d4e32-f7df-4301-b0c0-4d40ca7c62a3",
   "metadata": {},
   "outputs": [],
   "source": [
    "import pandas as pd\n",
    "import numpy as np\n",
    "from sklearn.model_selection import train_test_split\n",
    "from sklearn.linear_model import LinearRegression\n",
    "from sklearn.model_selection import train_test_split\n",
    "import matplotlib.pyplot as plt\n",
    "from catboost import CatBoostClassifier, Pool\n",
    "from sklearn.model_selection import train_test_split, GroupKFold\n",
    "from sklearn.metrics import accuracy_score\n",
    "from sklearn.metrics import confusion_matrix, roc_curve, precision_recall_curve, ConfusionMatrixDisplay, RocCurveDisplay, PrecisionRecallDisplay\n",
    "from sklearn.calibration import calibration_curve, CalibrationDisplay\n",
    "from sklearn.model_selection import learning_curve, validation_curve\n",
    "from sklearn.metrics import classification_report\n",
    "from sklearn.preprocessing import OneHotEncoder\n",
    "from sklearn.linear_model import LogisticRegression\n",
    "from sklearn.model_selection import cross_val_score"
   ]
  },
  {
   "cell_type": "markdown",
   "id": "c30cc379-f63d-437d-b30c-f4999257b7bf",
   "metadata": {},
   "source": [
    "### Посмотрим, откуда данные и как с ними работать\n",
    "Ссылка на базу данных:<br>\n",
    ">Jankauskaitė J, Jiménez-García B, Dapkūnas J, Fernández-Recio J, Moal IH (2019) SKEMPI 2.0: an updated benchmark of changes in protein–protein binding energy, kinetics and thermodynamics upon mutation. Bioinformatics 35, 462–469 (https://doi.org/10.1093/bioinformatics/bty635)<br>\n",
    "\n",
    "В описании базы данных указано:\n",
    ">Q. I don't see any ΔG or ΔΔG values in the table. How do I calculate these?\n",
    ">\n",
    ">A. The affinities (Kd) of the wild-type complexes are in the column 'affinity_wt' and the affinities of the mutant are in the column 'affinity_mut'. These can be converted to ΔG values by the relationship ΔG = RT ln Kd; at room temperature this is ΔG = (8.314/4184)*(273.15 + 25.0) * ln(wt), where ln() is the natural logarithm. The changes in affinity upon mutation is calculated as ΔΔG = ΔGmut-ΔGwt.\n",
    "\n",
    "Т.е., мы можем получить $\\Delta \\Delta G$ по указанным формулам из выгруженной таблицы:<br>\n",
    "$\\Delta G = RTlnK_d$<br>$\\Delta G_{wt} = \\frac{8.314}{4184} \\cdot (273.15 + 25.0) \\cdot ln(K_d(wt))$<br>$\\Delta G_{mut} = \\frac{8.314}{4184} \\cdot (273.15 + 25.0) \\cdot ln(K_d(mut))$<br>$\\Delta \\Delta G = \\Delta G_{mut} - \\Delta G_{wt}$"
   ]
  },
  {
   "cell_type": "markdown",
   "id": "281e1784-474e-45bc-aaf4-a4caa4744463",
   "metadata": {},
   "source": [
    "### Скачаем нашу базу данных"
   ]
  },
  {
   "cell_type": "code",
   "execution_count": 2,
   "id": "76f0bc59-2322-446d-b50b-5a08887c79b6",
   "metadata": {},
   "outputs": [],
   "source": [
    "# !wget https://life.bsc.es/pid/skempi2/database/download/skempi_v2.csv"
   ]
  },
  {
   "cell_type": "code",
   "execution_count": 3,
   "id": "553c4c3b-0080-4913-8e08-d3c9f9e02217",
   "metadata": {},
   "outputs": [
    {
     "name": "stdout",
     "output_type": "stream",
     "text": [
      "README.md    catboost_info     skempi_v2.csv\n",
      "biocad_venv  requirements.txt  Тестовое_биокад_мл.ipynb\n"
     ]
    }
   ],
   "source": [
    "!ls"
   ]
  },
  {
   "cell_type": "code",
   "execution_count": 4,
   "id": "d1f8282d-fdf1-493b-bd5e-dace7d647306",
   "metadata": {},
   "outputs": [],
   "source": [
    "data = pd.read_csv('skempi_v2.csv', sep=\";\")"
   ]
  },
  {
   "cell_type": "markdown",
   "id": "e824a3ec-51f9-4887-9270-ac15c837effe",
   "metadata": {},
   "source": [
    "### Проанализируем базу данных"
   ]
  },
  {
   "cell_type": "code",
   "execution_count": 5,
   "id": "b186f940-5094-48cd-a7a0-2727900ddab9",
   "metadata": {},
   "outputs": [
    {
     "data": {
      "text/html": [
       "<div>\n",
       "<style scoped>\n",
       "    .dataframe tbody tr th:only-of-type {\n",
       "        vertical-align: middle;\n",
       "    }\n",
       "\n",
       "    .dataframe tbody tr th {\n",
       "        vertical-align: top;\n",
       "    }\n",
       "\n",
       "    .dataframe thead th {\n",
       "        text-align: right;\n",
       "    }\n",
       "</style>\n",
       "<table border=\"1\" class=\"dataframe\">\n",
       "  <thead>\n",
       "    <tr style=\"text-align: right;\">\n",
       "      <th></th>\n",
       "      <th>#Pdb</th>\n",
       "      <th>Mutation(s)_PDB</th>\n",
       "      <th>Mutation(s)_cleaned</th>\n",
       "      <th>iMutation_Location(s)</th>\n",
       "      <th>Hold_out_type</th>\n",
       "      <th>Hold_out_proteins</th>\n",
       "      <th>Affinity_mut (M)</th>\n",
       "      <th>Affinity_mut_parsed</th>\n",
       "      <th>Affinity_wt (M)</th>\n",
       "      <th>Affinity_wt_parsed</th>\n",
       "      <th>...</th>\n",
       "      <th>koff_mut_parsed</th>\n",
       "      <th>koff_wt (s^(-1))</th>\n",
       "      <th>koff_wt_parsed</th>\n",
       "      <th>dH_mut (kcal mol^(-1))</th>\n",
       "      <th>dH_wt (kcal mol^(-1))</th>\n",
       "      <th>dS_mut (cal mol^(-1) K^(-1))</th>\n",
       "      <th>dS_wt (cal mol^(-1) K^(-1))</th>\n",
       "      <th>Notes</th>\n",
       "      <th>Method</th>\n",
       "      <th>SKEMPI version</th>\n",
       "    </tr>\n",
       "  </thead>\n",
       "  <tbody>\n",
       "    <tr>\n",
       "      <th>0</th>\n",
       "      <td>1CSE_E_I</td>\n",
       "      <td>LI45G</td>\n",
       "      <td>LI38G</td>\n",
       "      <td>COR</td>\n",
       "      <td>Pr/PI</td>\n",
       "      <td>Pr/PI</td>\n",
       "      <td>5.26E-11</td>\n",
       "      <td>5.260000e-11</td>\n",
       "      <td>1.12E-12</td>\n",
       "      <td>1.120000e-12</td>\n",
       "      <td>...</td>\n",
       "      <td>NaN</td>\n",
       "      <td>NaN</td>\n",
       "      <td>NaN</td>\n",
       "      <td>NaN</td>\n",
       "      <td>NaN</td>\n",
       "      <td>NaN</td>\n",
       "      <td>NaN</td>\n",
       "      <td>NaN</td>\n",
       "      <td>IASP</td>\n",
       "      <td>1</td>\n",
       "    </tr>\n",
       "    <tr>\n",
       "      <th>1</th>\n",
       "      <td>1CSE_E_I</td>\n",
       "      <td>LI45S</td>\n",
       "      <td>LI38S</td>\n",
       "      <td>COR</td>\n",
       "      <td>Pr/PI</td>\n",
       "      <td>Pr/PI</td>\n",
       "      <td>8.33E-12</td>\n",
       "      <td>8.330000e-12</td>\n",
       "      <td>1.12E-12</td>\n",
       "      <td>1.120000e-12</td>\n",
       "      <td>...</td>\n",
       "      <td>NaN</td>\n",
       "      <td>NaN</td>\n",
       "      <td>NaN</td>\n",
       "      <td>NaN</td>\n",
       "      <td>NaN</td>\n",
       "      <td>NaN</td>\n",
       "      <td>NaN</td>\n",
       "      <td>NaN</td>\n",
       "      <td>IASP</td>\n",
       "      <td>1</td>\n",
       "    </tr>\n",
       "    <tr>\n",
       "      <th>2</th>\n",
       "      <td>1CSE_E_I</td>\n",
       "      <td>LI45P</td>\n",
       "      <td>LI38P</td>\n",
       "      <td>COR</td>\n",
       "      <td>Pr/PI</td>\n",
       "      <td>Pr/PI</td>\n",
       "      <td>1.02E-07</td>\n",
       "      <td>1.020000e-07</td>\n",
       "      <td>1.12E-12</td>\n",
       "      <td>1.120000e-12</td>\n",
       "      <td>...</td>\n",
       "      <td>NaN</td>\n",
       "      <td>NaN</td>\n",
       "      <td>NaN</td>\n",
       "      <td>NaN</td>\n",
       "      <td>NaN</td>\n",
       "      <td>NaN</td>\n",
       "      <td>NaN</td>\n",
       "      <td>NaN</td>\n",
       "      <td>IASP</td>\n",
       "      <td>1</td>\n",
       "    </tr>\n",
       "    <tr>\n",
       "      <th>3</th>\n",
       "      <td>1CSE_E_I</td>\n",
       "      <td>LI45I</td>\n",
       "      <td>LI38I</td>\n",
       "      <td>COR</td>\n",
       "      <td>Pr/PI</td>\n",
       "      <td>Pr/PI</td>\n",
       "      <td>1.72E-10</td>\n",
       "      <td>1.720000e-10</td>\n",
       "      <td>1.12E-12</td>\n",
       "      <td>1.120000e-12</td>\n",
       "      <td>...</td>\n",
       "      <td>NaN</td>\n",
       "      <td>NaN</td>\n",
       "      <td>NaN</td>\n",
       "      <td>NaN</td>\n",
       "      <td>NaN</td>\n",
       "      <td>NaN</td>\n",
       "      <td>NaN</td>\n",
       "      <td>NaN</td>\n",
       "      <td>IASP</td>\n",
       "      <td>1</td>\n",
       "    </tr>\n",
       "    <tr>\n",
       "      <th>4</th>\n",
       "      <td>1CSE_E_I</td>\n",
       "      <td>LI45D</td>\n",
       "      <td>LI38D</td>\n",
       "      <td>COR</td>\n",
       "      <td>Pr/PI</td>\n",
       "      <td>Pr/PI</td>\n",
       "      <td>1.92E-09</td>\n",
       "      <td>1.920000e-09</td>\n",
       "      <td>1.12E-12</td>\n",
       "      <td>1.120000e-12</td>\n",
       "      <td>...</td>\n",
       "      <td>NaN</td>\n",
       "      <td>NaN</td>\n",
       "      <td>NaN</td>\n",
       "      <td>NaN</td>\n",
       "      <td>NaN</td>\n",
       "      <td>NaN</td>\n",
       "      <td>NaN</td>\n",
       "      <td>NaN</td>\n",
       "      <td>IASP</td>\n",
       "      <td>1</td>\n",
       "    </tr>\n",
       "  </tbody>\n",
       "</table>\n",
       "<p>5 rows × 29 columns</p>\n",
       "</div>"
      ],
      "text/plain": [
       "       #Pdb Mutation(s)_PDB Mutation(s)_cleaned iMutation_Location(s)  \\\n",
       "0  1CSE_E_I           LI45G               LI38G                   COR   \n",
       "1  1CSE_E_I           LI45S               LI38S                   COR   \n",
       "2  1CSE_E_I           LI45P               LI38P                   COR   \n",
       "3  1CSE_E_I           LI45I               LI38I                   COR   \n",
       "4  1CSE_E_I           LI45D               LI38D                   COR   \n",
       "\n",
       "  Hold_out_type Hold_out_proteins Affinity_mut (M)  Affinity_mut_parsed  \\\n",
       "0         Pr/PI             Pr/PI         5.26E-11         5.260000e-11   \n",
       "1         Pr/PI             Pr/PI         8.33E-12         8.330000e-12   \n",
       "2         Pr/PI             Pr/PI         1.02E-07         1.020000e-07   \n",
       "3         Pr/PI             Pr/PI         1.72E-10         1.720000e-10   \n",
       "4         Pr/PI             Pr/PI         1.92E-09         1.920000e-09   \n",
       "\n",
       "  Affinity_wt (M)  Affinity_wt_parsed  ... koff_mut_parsed koff_wt (s^(-1))  \\\n",
       "0        1.12E-12        1.120000e-12  ...             NaN              NaN   \n",
       "1        1.12E-12        1.120000e-12  ...             NaN              NaN   \n",
       "2        1.12E-12        1.120000e-12  ...             NaN              NaN   \n",
       "3        1.12E-12        1.120000e-12  ...             NaN              NaN   \n",
       "4        1.12E-12        1.120000e-12  ...             NaN              NaN   \n",
       "\n",
       "  koff_wt_parsed dH_mut (kcal mol^(-1))  dH_wt (kcal mol^(-1))  \\\n",
       "0            NaN                    NaN                    NaN   \n",
       "1            NaN                    NaN                    NaN   \n",
       "2            NaN                    NaN                    NaN   \n",
       "3            NaN                    NaN                    NaN   \n",
       "4            NaN                    NaN                    NaN   \n",
       "\n",
       "   dS_mut (cal mol^(-1) K^(-1))  dS_wt (cal mol^(-1) K^(-1))  Notes Method  \\\n",
       "0                           NaN                          NaN    NaN   IASP   \n",
       "1                           NaN                          NaN    NaN   IASP   \n",
       "2                           NaN                          NaN    NaN   IASP   \n",
       "3                           NaN                          NaN    NaN   IASP   \n",
       "4                           NaN                          NaN    NaN   IASP   \n",
       "\n",
       "   SKEMPI version  \n",
       "0               1  \n",
       "1               1  \n",
       "2               1  \n",
       "3               1  \n",
       "4               1  \n",
       "\n",
       "[5 rows x 29 columns]"
      ]
     },
     "execution_count": 5,
     "metadata": {},
     "output_type": "execute_result"
    }
   ],
   "source": [
    "data.head()"
   ]
  },
  {
   "cell_type": "markdown",
   "id": "96aa86b6-35d5-4985-b98e-bb600c0fb633",
   "metadata": {},
   "source": [
    "Тут строки с аффиностью повторяются по сути, их различие в том, что \"*parsed\" обработаны в подходящий для вычислений формат. Так что, мы будем использовать их, а исходники удалим"
   ]
  },
  {
   "cell_type": "code",
   "execution_count": 6,
   "id": "d43256d9-575a-403f-93cc-b389293d2280",
   "metadata": {},
   "outputs": [],
   "source": [
    "data = data.drop(['Affinity_mut (M)', 'Affinity_wt (M)'], axis=1)"
   ]
  },
  {
   "cell_type": "code",
   "execution_count": 7,
   "id": "05767ae4-80ce-43cf-9a6d-75d848478769",
   "metadata": {},
   "outputs": [
    {
     "name": "stdout",
     "output_type": "stream",
     "text": [
      "<class 'pandas.core.frame.DataFrame'>\n",
      "RangeIndex: 7085 entries, 0 to 7084\n",
      "Data columns (total 27 columns):\n",
      " #   Column                        Non-Null Count  Dtype  \n",
      "---  ------                        --------------  -----  \n",
      " 0   #Pdb                          7085 non-null   object \n",
      " 1   Mutation(s)_PDB               7085 non-null   object \n",
      " 2   Mutation(s)_cleaned           7085 non-null   object \n",
      " 3   iMutation_Location(s)         7085 non-null   object \n",
      " 4   Hold_out_type                 3311 non-null   object \n",
      " 5   Hold_out_proteins             7085 non-null   object \n",
      " 6   Affinity_mut_parsed           6800 non-null   float64\n",
      " 7   Affinity_wt_parsed            7083 non-null   float64\n",
      " 8   Reference                     7085 non-null   object \n",
      " 9   Protein 1                     7085 non-null   object \n",
      " 10  Protein 2                     7085 non-null   object \n",
      " 11  Temperature                   7081 non-null   object \n",
      " 12  kon_mut (M^(-1)s^(-1))        1844 non-null   float64\n",
      " 13  kon_mut_parsed                1844 non-null   float64\n",
      " 14  kon_wt (M^(-1)s^(-1))         1853 non-null   float64\n",
      " 15  kon_wt_parsed                 1853 non-null   float64\n",
      " 16  koff_mut (s^(-1))             1844 non-null   object \n",
      " 17  koff_mut_parsed               1844 non-null   float64\n",
      " 18  koff_wt (s^(-1))              1860 non-null   object \n",
      " 19  koff_wt_parsed                1860 non-null   float64\n",
      " 20  dH_mut (kcal mol^(-1))        443 non-null    float64\n",
      " 21  dH_wt (kcal mol^(-1))         443 non-null    float64\n",
      " 22  dS_mut (cal mol^(-1) K^(-1))  443 non-null    float64\n",
      " 23  dS_wt (cal mol^(-1) K^(-1))   443 non-null    float64\n",
      " 24  Notes                         3062 non-null   object \n",
      " 25  Method                        7085 non-null   object \n",
      " 26  SKEMPI version                7085 non-null   int64  \n",
      "dtypes: float64(12), int64(1), object(14)\n",
      "memory usage: 1.5+ MB\n"
     ]
    }
   ],
   "source": [
    "data.info()"
   ]
  },
  {
   "cell_type": "code",
   "execution_count": 8,
   "id": "8016e17f-5213-42cc-b100-84ee67f4580b",
   "metadata": {},
   "outputs": [
    {
     "data": {
      "text/html": [
       "<div>\n",
       "<style scoped>\n",
       "    .dataframe tbody tr th:only-of-type {\n",
       "        vertical-align: middle;\n",
       "    }\n",
       "\n",
       "    .dataframe tbody tr th {\n",
       "        vertical-align: top;\n",
       "    }\n",
       "\n",
       "    .dataframe thead th {\n",
       "        text-align: right;\n",
       "    }\n",
       "</style>\n",
       "<table border=\"1\" class=\"dataframe\">\n",
       "  <thead>\n",
       "    <tr style=\"text-align: right;\">\n",
       "      <th></th>\n",
       "      <th>Affinity_mut_parsed</th>\n",
       "      <th>Affinity_wt_parsed</th>\n",
       "      <th>kon_mut (M^(-1)s^(-1))</th>\n",
       "      <th>kon_mut_parsed</th>\n",
       "      <th>kon_wt (M^(-1)s^(-1))</th>\n",
       "      <th>kon_wt_parsed</th>\n",
       "      <th>koff_mut_parsed</th>\n",
       "      <th>koff_wt_parsed</th>\n",
       "      <th>dH_mut (kcal mol^(-1))</th>\n",
       "      <th>dH_wt (kcal mol^(-1))</th>\n",
       "      <th>dS_mut (cal mol^(-1) K^(-1))</th>\n",
       "      <th>dS_wt (cal mol^(-1) K^(-1))</th>\n",
       "      <th>SKEMPI version</th>\n",
       "    </tr>\n",
       "  </thead>\n",
       "  <tbody>\n",
       "    <tr>\n",
       "      <th>count</th>\n",
       "      <td>6.800000e+03</td>\n",
       "      <td>7.083000e+03</td>\n",
       "      <td>1.844000e+03</td>\n",
       "      <td>1.844000e+03</td>\n",
       "      <td>1.853000e+03</td>\n",
       "      <td>1.853000e+03</td>\n",
       "      <td>1.844000e+03</td>\n",
       "      <td>1.860000e+03</td>\n",
       "      <td>443.000000</td>\n",
       "      <td>443.000000</td>\n",
       "      <td>443.000000</td>\n",
       "      <td>443.000000</td>\n",
       "      <td>7085.000000</td>\n",
       "    </tr>\n",
       "    <tr>\n",
       "      <th>mean</th>\n",
       "      <td>3.296118e-05</td>\n",
       "      <td>2.293822e-06</td>\n",
       "      <td>2.526311e+07</td>\n",
       "      <td>2.526311e+07</td>\n",
       "      <td>3.118592e+07</td>\n",
       "      <td>3.118592e+07</td>\n",
       "      <td>7.653679e-01</td>\n",
       "      <td>2.655187e-01</td>\n",
       "      <td>-11.223025</td>\n",
       "      <td>-13.614582</td>\n",
       "      <td>-5.831533</td>\n",
       "      <td>-9.208275</td>\n",
       "      <td>1.573888</td>\n",
       "    </tr>\n",
       "    <tr>\n",
       "      <th>std</th>\n",
       "      <td>6.258186e-04</td>\n",
       "      <td>1.991603e-05</td>\n",
       "      <td>1.409556e+08</td>\n",
       "      <td>1.409556e+08</td>\n",
       "      <td>9.531700e+07</td>\n",
       "      <td>9.531700e+07</td>\n",
       "      <td>5.904961e+00</td>\n",
       "      <td>1.734081e+00</td>\n",
       "      <td>12.898223</td>\n",
       "      <td>11.581970</td>\n",
       "      <td>41.951826</td>\n",
       "      <td>36.425865</td>\n",
       "      <td>0.494545</td>\n",
       "    </tr>\n",
       "    <tr>\n",
       "      <th>min</th>\n",
       "      <td>2.000000e-16</td>\n",
       "      <td>3.300000e-16</td>\n",
       "      <td>5.000000e+01</td>\n",
       "      <td>5.000000e+01</td>\n",
       "      <td>5.400000e+02</td>\n",
       "      <td>5.400000e+02</td>\n",
       "      <td>5.800000e-08</td>\n",
       "      <td>5.000000e-08</td>\n",
       "      <td>-66.860000</td>\n",
       "      <td>-50.680000</td>\n",
       "      <td>-189.090909</td>\n",
       "      <td>-128.051948</td>\n",
       "      <td>1.000000</td>\n",
       "    </tr>\n",
       "    <tr>\n",
       "      <th>25%</th>\n",
       "      <td>5.400000e-10</td>\n",
       "      <td>1.110000e-10</td>\n",
       "      <td>6.327500e+04</td>\n",
       "      <td>6.327500e+04</td>\n",
       "      <td>6.700000e+04</td>\n",
       "      <td>6.700000e+04</td>\n",
       "      <td>1.670000e-04</td>\n",
       "      <td>1.150000e-04</td>\n",
       "      <td>-14.400000</td>\n",
       "      <td>-19.300000</td>\n",
       "      <td>-16.180900</td>\n",
       "      <td>-24.800000</td>\n",
       "      <td>1.000000</td>\n",
       "    </tr>\n",
       "    <tr>\n",
       "      <th>50%</th>\n",
       "      <td>1.700000e-08</td>\n",
       "      <td>3.000000e-09</td>\n",
       "      <td>3.275000e+05</td>\n",
       "      <td>3.275000e+05</td>\n",
       "      <td>3.980000e+05</td>\n",
       "      <td>3.980000e+05</td>\n",
       "      <td>1.575000e-03</td>\n",
       "      <td>3.000000e-04</td>\n",
       "      <td>-8.900000</td>\n",
       "      <td>-11.200000</td>\n",
       "      <td>0.010000</td>\n",
       "      <td>-1.010000</td>\n",
       "      <td>2.000000</td>\n",
       "    </tr>\n",
       "    <tr>\n",
       "      <th>75%</th>\n",
       "      <td>1.200000e-06</td>\n",
       "      <td>8.000000e-08</td>\n",
       "      <td>3.212500e+06</td>\n",
       "      <td>3.212500e+06</td>\n",
       "      <td>3.700000e+06</td>\n",
       "      <td>3.700000e+06</td>\n",
       "      <td>2.802500e-02</td>\n",
       "      <td>1.100000e-02</td>\n",
       "      <td>-4.300000</td>\n",
       "      <td>-7.400000</td>\n",
       "      <td>15.268456</td>\n",
       "      <td>15.100671</td>\n",
       "      <td>2.000000</td>\n",
       "    </tr>\n",
       "    <tr>\n",
       "      <th>max</th>\n",
       "      <td>4.050000e-02</td>\n",
       "      <td>6.350000e-04</td>\n",
       "      <td>4.500000e+09</td>\n",
       "      <td>4.500000e+09</td>\n",
       "      <td>7.000000e+08</td>\n",
       "      <td>7.000000e+08</td>\n",
       "      <td>1.200000e+02</td>\n",
       "      <td>1.490000e+01</td>\n",
       "      <td>15.600000</td>\n",
       "      <td>5.900000</td>\n",
       "      <td>96.239318</td>\n",
       "      <td>48.000000</td>\n",
       "      <td>2.000000</td>\n",
       "    </tr>\n",
       "  </tbody>\n",
       "</table>\n",
       "</div>"
      ],
      "text/plain": [
       "       Affinity_mut_parsed  Affinity_wt_parsed  kon_mut (M^(-1)s^(-1))  \\\n",
       "count         6.800000e+03        7.083000e+03            1.844000e+03   \n",
       "mean          3.296118e-05        2.293822e-06            2.526311e+07   \n",
       "std           6.258186e-04        1.991603e-05            1.409556e+08   \n",
       "min           2.000000e-16        3.300000e-16            5.000000e+01   \n",
       "25%           5.400000e-10        1.110000e-10            6.327500e+04   \n",
       "50%           1.700000e-08        3.000000e-09            3.275000e+05   \n",
       "75%           1.200000e-06        8.000000e-08            3.212500e+06   \n",
       "max           4.050000e-02        6.350000e-04            4.500000e+09   \n",
       "\n",
       "       kon_mut_parsed  kon_wt (M^(-1)s^(-1))  kon_wt_parsed  koff_mut_parsed  \\\n",
       "count    1.844000e+03           1.853000e+03   1.853000e+03     1.844000e+03   \n",
       "mean     2.526311e+07           3.118592e+07   3.118592e+07     7.653679e-01   \n",
       "std      1.409556e+08           9.531700e+07   9.531700e+07     5.904961e+00   \n",
       "min      5.000000e+01           5.400000e+02   5.400000e+02     5.800000e-08   \n",
       "25%      6.327500e+04           6.700000e+04   6.700000e+04     1.670000e-04   \n",
       "50%      3.275000e+05           3.980000e+05   3.980000e+05     1.575000e-03   \n",
       "75%      3.212500e+06           3.700000e+06   3.700000e+06     2.802500e-02   \n",
       "max      4.500000e+09           7.000000e+08   7.000000e+08     1.200000e+02   \n",
       "\n",
       "       koff_wt_parsed  dH_mut (kcal mol^(-1))  dH_wt (kcal mol^(-1))  \\\n",
       "count    1.860000e+03              443.000000             443.000000   \n",
       "mean     2.655187e-01              -11.223025             -13.614582   \n",
       "std      1.734081e+00               12.898223              11.581970   \n",
       "min      5.000000e-08              -66.860000             -50.680000   \n",
       "25%      1.150000e-04              -14.400000             -19.300000   \n",
       "50%      3.000000e-04               -8.900000             -11.200000   \n",
       "75%      1.100000e-02               -4.300000              -7.400000   \n",
       "max      1.490000e+01               15.600000               5.900000   \n",
       "\n",
       "       dS_mut (cal mol^(-1) K^(-1))  dS_wt (cal mol^(-1) K^(-1))  \\\n",
       "count                    443.000000                   443.000000   \n",
       "mean                      -5.831533                    -9.208275   \n",
       "std                       41.951826                    36.425865   \n",
       "min                     -189.090909                  -128.051948   \n",
       "25%                      -16.180900                   -24.800000   \n",
       "50%                        0.010000                    -1.010000   \n",
       "75%                       15.268456                    15.100671   \n",
       "max                       96.239318                    48.000000   \n",
       "\n",
       "       SKEMPI version  \n",
       "count     7085.000000  \n",
       "mean         1.573888  \n",
       "std          0.494545  \n",
       "min          1.000000  \n",
       "25%          1.000000  \n",
       "50%          2.000000  \n",
       "75%          2.000000  \n",
       "max          2.000000  "
      ]
     },
     "execution_count": 8,
     "metadata": {},
     "output_type": "execute_result"
    }
   ],
   "source": [
    "data.describe()"
   ]
  },
  {
   "cell_type": "code",
   "execution_count": 9,
   "id": "d0015a2a-a5c2-4671-ac57-1c5c3fed059e",
   "metadata": {},
   "outputs": [
    {
     "data": {
      "text/plain": [
       "((7085, 27), 191295)"
      ]
     },
     "execution_count": 9,
     "metadata": {},
     "output_type": "execute_result"
    }
   ],
   "source": [
    "data.shape, data.size"
   ]
  },
  {
   "cell_type": "code",
   "execution_count": 10,
   "id": "f434b164-cb14-464c-8f53-ad4ac94d46bd",
   "metadata": {},
   "outputs": [
    {
     "data": {
      "text/plain": [
       "Index(['#Pdb', 'Mutation(s)_PDB', 'Mutation(s)_cleaned',\n",
       "       'iMutation_Location(s)', 'Hold_out_type', 'Hold_out_proteins',\n",
       "       'Affinity_mut_parsed', 'Affinity_wt_parsed', 'Reference', 'Protein 1',\n",
       "       'Protein 2', 'Temperature', 'kon_mut (M^(-1)s^(-1))', 'kon_mut_parsed',\n",
       "       'kon_wt (M^(-1)s^(-1))', 'kon_wt_parsed', 'koff_mut (s^(-1))',\n",
       "       'koff_mut_parsed', 'koff_wt (s^(-1))', 'koff_wt_parsed',\n",
       "       'dH_mut (kcal mol^(-1))', 'dH_wt (kcal mol^(-1))',\n",
       "       'dS_mut (cal mol^(-1) K^(-1))', 'dS_wt (cal mol^(-1) K^(-1))', 'Notes',\n",
       "       'Method', 'SKEMPI version'],\n",
       "      dtype='object')"
      ]
     },
     "execution_count": 10,
     "metadata": {},
     "output_type": "execute_result"
    }
   ],
   "source": [
    "data.columns"
   ]
  },
  {
   "cell_type": "markdown",
   "id": "b2bab0d3-a593-4b8f-a5de-790de6124cef",
   "metadata": {},
   "source": [
    "### Посчитаем dGwt, dGmut и ddG"
   ]
  },
  {
   "cell_type": "code",
   "execution_count": 11,
   "id": "f9f1bfe3-c7ad-40ea-a36c-07ccc95a15db",
   "metadata": {},
   "outputs": [],
   "source": [
    "R = 8.314/4184"
   ]
  },
  {
   "cell_type": "markdown",
   "id": "d0676740-ecee-4bfb-8a9c-85ab4e7f2485",
   "metadata": {},
   "source": [
    "Необходимые нам данные для расчета энергий Гиббса находятся в формате объектов, так что переконвертируем в числовой формат."
   ]
  },
  {
   "cell_type": "code",
   "execution_count": 12,
   "id": "009388c9-81ce-4d39-824a-77bb051edff0",
   "metadata": {},
   "outputs": [],
   "source": [
    "data['Affinity_mut_parsed'] = pd.to_numeric(data['Affinity_mut_parsed'], errors='coerce')"
   ]
  },
  {
   "cell_type": "code",
   "execution_count": 13,
   "id": "e95a074f-a8d0-4e2f-8ef6-1e70bc6dff6b",
   "metadata": {},
   "outputs": [],
   "source": [
    "data['Affinity_wt_parsed'] = pd.to_numeric(data['Affinity_wt_parsed'], errors='coerce')"
   ]
  },
  {
   "cell_type": "code",
   "execution_count": 14,
   "id": "ebe57774-01d2-46cd-9f55-a144d22a7bc5",
   "metadata": {},
   "outputs": [],
   "source": [
    "data['Temperature'] = pd.to_numeric(data['Temperature'], errors='coerce')"
   ]
  },
  {
   "cell_type": "markdown",
   "id": "f39e39e7-3cbf-4105-b13e-4803d8d2dcd5",
   "metadata": {},
   "source": [
    "Не для всех структур мы знаем температуру эксперимента, так что для пустых значений подставим стандартную температуру в кельвинах. А также проверим статистику по колонке с температурой, чтобы быть уверенными, что все значения в кельвинах."
   ]
  },
  {
   "cell_type": "code",
   "execution_count": 15,
   "id": "dba92030-f7c8-4d2b-b178-208cebc04dfe",
   "metadata": {},
   "outputs": [],
   "source": [
    "data['Temperature'] = data['Temperature'].fillna(298)"
   ]
  },
  {
   "cell_type": "code",
   "execution_count": 16,
   "id": "8b65f18c-a41c-4342-99d0-cb559019ec7f",
   "metadata": {},
   "outputs": [
    {
     "data": {
      "text/plain": [
       "count    7085.000000\n",
       "mean      297.383204\n",
       "std         4.046012\n",
       "min       273.000000\n",
       "25%       296.000000\n",
       "50%       298.000000\n",
       "75%       298.000000\n",
       "max       338.000000\n",
       "Name: Temperature, dtype: float64"
      ]
     },
     "execution_count": 16,
     "metadata": {},
     "output_type": "execute_result"
    }
   ],
   "source": [
    "data[\"Temperature\"].describe()"
   ]
  },
  {
   "cell_type": "markdown",
   "id": "4e171765-e73c-4a8c-951d-4a2784b4401f",
   "metadata": {},
   "source": [
    "Также, константы связывания должны быть положительными, хотя база данных курируемая, отфильтруем наши данные на всякий случай."
   ]
  },
  {
   "cell_type": "code",
   "execution_count": 17,
   "id": "11edf8b0-f257-4360-97fa-4a3fbe96fa29",
   "metadata": {},
   "outputs": [],
   "source": [
    "data = data[(data['Affinity_mut_parsed'] > 0) & (data['Affinity_wt_parsed'] > 0)]"
   ]
  },
  {
   "cell_type": "markdown",
   "id": "88c0c82a-0a1b-4c1e-9575-3c547be2219b",
   "metadata": {},
   "source": [
    "Подсчитаем наши энергии Гиббса"
   ]
  },
  {
   "cell_type": "code",
   "execution_count": 18,
   "id": "f7d87828-ad7e-4131-90eb-9caef92b5dca",
   "metadata": {},
   "outputs": [],
   "source": [
    "data[\"dGmut\"] = R*np.log(data['Affinity_mut_parsed'])*data[\"Temperature\"]"
   ]
  },
  {
   "cell_type": "code",
   "execution_count": 19,
   "id": "93e000ac-8f8a-42ae-ab55-4980ad3c796e",
   "metadata": {},
   "outputs": [],
   "source": [
    "data[\"dGwt\"] = R*np.log(data['Affinity_wt_parsed'])*data[\"Temperature\"]"
   ]
  },
  {
   "cell_type": "code",
   "execution_count": 20,
   "id": "b3c728a0-413a-4dfa-8646-cdbbdb68605e",
   "metadata": {},
   "outputs": [],
   "source": [
    "data[\"ddG\"] = data[\"dGmut\"] - data[\"dGwt\"]"
   ]
  },
  {
   "cell_type": "code",
   "execution_count": 21,
   "id": "de4d36c8-88ca-4b5b-ad1b-9333160ffe99",
   "metadata": {},
   "outputs": [
    {
     "name": "stdout",
     "output_type": "stream",
     "text": [
      "<class 'pandas.core.frame.DataFrame'>\n",
      "Index: 6798 entries, 0 to 7084\n",
      "Data columns (total 30 columns):\n",
      " #   Column                        Non-Null Count  Dtype  \n",
      "---  ------                        --------------  -----  \n",
      " 0   #Pdb                          6798 non-null   object \n",
      " 1   Mutation(s)_PDB               6798 non-null   object \n",
      " 2   Mutation(s)_cleaned           6798 non-null   object \n",
      " 3   iMutation_Location(s)         6798 non-null   object \n",
      " 4   Hold_out_type                 3157 non-null   object \n",
      " 5   Hold_out_proteins             6798 non-null   object \n",
      " 6   Affinity_mut_parsed           6798 non-null   float64\n",
      " 7   Affinity_wt_parsed            6798 non-null   float64\n",
      " 8   Reference                     6798 non-null   object \n",
      " 9   Protein 1                     6798 non-null   object \n",
      " 10  Protein 2                     6798 non-null   object \n",
      " 11  Temperature                   6798 non-null   float64\n",
      " 12  kon_mut (M^(-1)s^(-1))        1844 non-null   float64\n",
      " 13  kon_mut_parsed                1844 non-null   float64\n",
      " 14  kon_wt (M^(-1)s^(-1))         1844 non-null   float64\n",
      " 15  kon_wt_parsed                 1844 non-null   float64\n",
      " 16  koff_mut (s^(-1))             1844 non-null   object \n",
      " 17  koff_mut_parsed               1844 non-null   float64\n",
      " 18  koff_wt (s^(-1))              1851 non-null   object \n",
      " 19  koff_wt_parsed                1851 non-null   float64\n",
      " 20  dH_mut (kcal mol^(-1))        443 non-null    float64\n",
      " 21  dH_wt (kcal mol^(-1))         443 non-null    float64\n",
      " 22  dS_mut (cal mol^(-1) K^(-1))  443 non-null    float64\n",
      " 23  dS_wt (cal mol^(-1) K^(-1))   443 non-null    float64\n",
      " 24  Notes                         3007 non-null   object \n",
      " 25  Method                        6798 non-null   object \n",
      " 26  SKEMPI version                6798 non-null   int64  \n",
      " 27  dGmut                         6798 non-null   float64\n",
      " 28  dGwt                          6798 non-null   float64\n",
      " 29  ddG                           6798 non-null   float64\n",
      "dtypes: float64(16), int64(1), object(13)\n",
      "memory usage: 1.6+ MB\n"
     ]
    }
   ],
   "source": [
    "data.info()"
   ]
  },
  {
   "cell_type": "markdown",
   "id": "2ff86a84-be19-4bd4-83a3-b86c7fb4083c",
   "metadata": {},
   "source": [
    "Если уж отсутствуют данные по константам связывания, то эти данные нам не восстановить. Тогда удалим строки, в которых ddG не подсчитан, так как эти данные нерелевантны."
   ]
  },
  {
   "cell_type": "code",
   "execution_count": 22,
   "id": "75b3ccd0-5d42-4ed4-876e-82e05b965abc",
   "metadata": {},
   "outputs": [],
   "source": [
    "data = data.dropna(subset=['ddG'])"
   ]
  },
  {
   "cell_type": "markdown",
   "id": "075819c2-162e-4935-a756-88af2fcc15e3",
   "metadata": {},
   "source": [
    "Есть колонки, где большая часть значений отсутствует. Многие из них также вряд ли являются нашими конфаундерами и мы можем их удалить из датафрейма"
   ]
  },
  {
   "cell_type": "code",
   "execution_count": 23,
   "id": "655f9b01-a5ec-46bf-80b0-21a89dcfa1cb",
   "metadata": {},
   "outputs": [],
   "source": [
    "cols_to_drop = ['kon_mut (M^(-1)s^(-1))', 'kon_mut_parsed', 'kon_wt (M^(-1)s^(-1))',\n",
    "                'kon_wt_parsed', 'koff_mut (s^(-1))', 'koff_mut_parsed', 'koff_wt (s^(-1))',\n",
    "                'koff_wt_parsed', 'dH_mut (kcal mol^(-1))', 'dH_wt (kcal mol^(-1))',\n",
    "                'dS_mut (cal mol^(-1) K^(-1))', 'dS_wt (cal mol^(-1) K^(-1))', 'Notes', 'SKEMPI version',\n",
    "                'Reference', 'Hold_out_type']\n",
    "\n",
    "data = data.drop(columns=cols_to_drop)"
   ]
  },
  {
   "cell_type": "code",
   "execution_count": 24,
   "id": "404c2666-f6bb-4a35-9374-b827b69fdf5f",
   "metadata": {},
   "outputs": [
    {
     "name": "stdout",
     "output_type": "stream",
     "text": [
      "<class 'pandas.core.frame.DataFrame'>\n",
      "Index: 6798 entries, 0 to 7084\n",
      "Data columns (total 14 columns):\n",
      " #   Column                 Non-Null Count  Dtype  \n",
      "---  ------                 --------------  -----  \n",
      " 0   #Pdb                   6798 non-null   object \n",
      " 1   Mutation(s)_PDB        6798 non-null   object \n",
      " 2   Mutation(s)_cleaned    6798 non-null   object \n",
      " 3   iMutation_Location(s)  6798 non-null   object \n",
      " 4   Hold_out_proteins      6798 non-null   object \n",
      " 5   Affinity_mut_parsed    6798 non-null   float64\n",
      " 6   Affinity_wt_parsed     6798 non-null   float64\n",
      " 7   Protein 1              6798 non-null   object \n",
      " 8   Protein 2              6798 non-null   object \n",
      " 9   Temperature            6798 non-null   float64\n",
      " 10  Method                 6798 non-null   object \n",
      " 11  dGmut                  6798 non-null   float64\n",
      " 12  dGwt                   6798 non-null   float64\n",
      " 13  ddG                    6798 non-null   float64\n",
      "dtypes: float64(6), object(8)\n",
      "memory usage: 796.6+ KB\n"
     ]
    }
   ],
   "source": [
    "data.info()"
   ]
  },
  {
   "cell_type": "markdown",
   "id": "005093d3-bed2-450d-a83d-15fa9ae52e7c",
   "metadata": {},
   "source": [
    "Удалим возможные дубликаты. Конечно, в курируемой базе данных эти строки моги различаться по статье или иным удаленным показателям, но для нас это будет баес."
   ]
  },
  {
   "cell_type": "code",
   "execution_count": 25,
   "id": "ece897b2-afc7-43b3-b20b-2cc04aa6e526",
   "metadata": {},
   "outputs": [],
   "source": [
    "data_unique = data.drop_duplicates()"
   ]
  },
  {
   "cell_type": "code",
   "execution_count": 26,
   "id": "722695c6-984d-4075-ab16-4b0c049023c4",
   "metadata": {},
   "outputs": [
    {
     "name": "stdout",
     "output_type": "stream",
     "text": [
      "<class 'pandas.core.frame.DataFrame'>\n",
      "Index: 6774 entries, 0 to 7084\n",
      "Data columns (total 14 columns):\n",
      " #   Column                 Non-Null Count  Dtype  \n",
      "---  ------                 --------------  -----  \n",
      " 0   #Pdb                   6774 non-null   object \n",
      " 1   Mutation(s)_PDB        6774 non-null   object \n",
      " 2   Mutation(s)_cleaned    6774 non-null   object \n",
      " 3   iMutation_Location(s)  6774 non-null   object \n",
      " 4   Hold_out_proteins      6774 non-null   object \n",
      " 5   Affinity_mut_parsed    6774 non-null   float64\n",
      " 6   Affinity_wt_parsed     6774 non-null   float64\n",
      " 7   Protein 1              6774 non-null   object \n",
      " 8   Protein 2              6774 non-null   object \n",
      " 9   Temperature            6774 non-null   float64\n",
      " 10  Method                 6774 non-null   object \n",
      " 11  dGmut                  6774 non-null   float64\n",
      " 12  dGwt                   6774 non-null   float64\n",
      " 13  ddG                    6774 non-null   float64\n",
      "dtypes: float64(6), object(8)\n",
      "memory usage: 793.8+ KB\n"
     ]
    }
   ],
   "source": [
    "data_unique.info()"
   ]
  },
  {
   "cell_type": "code",
   "execution_count": 27,
   "id": "d0a8397a-53b6-4563-a9df-05e3d067b26c",
   "metadata": {},
   "outputs": [
    {
     "data": {
      "text/html": [
       "<div>\n",
       "<style scoped>\n",
       "    .dataframe tbody tr th:only-of-type {\n",
       "        vertical-align: middle;\n",
       "    }\n",
       "\n",
       "    .dataframe tbody tr th {\n",
       "        vertical-align: top;\n",
       "    }\n",
       "\n",
       "    .dataframe thead th {\n",
       "        text-align: right;\n",
       "    }\n",
       "</style>\n",
       "<table border=\"1\" class=\"dataframe\">\n",
       "  <thead>\n",
       "    <tr style=\"text-align: right;\">\n",
       "      <th></th>\n",
       "      <th>Affinity_mut_parsed</th>\n",
       "      <th>Affinity_wt_parsed</th>\n",
       "      <th>Temperature</th>\n",
       "      <th>dGmut</th>\n",
       "      <th>dGwt</th>\n",
       "      <th>ddG</th>\n",
       "    </tr>\n",
       "  </thead>\n",
       "  <tbody>\n",
       "    <tr>\n",
       "      <th>count</th>\n",
       "      <td>6.774000e+03</td>\n",
       "      <td>6.774000e+03</td>\n",
       "      <td>6774.000000</td>\n",
       "      <td>6774.000000</td>\n",
       "      <td>6774.000000</td>\n",
       "      <td>6774.000000</td>\n",
       "    </tr>\n",
       "    <tr>\n",
       "      <th>mean</th>\n",
       "      <td>3.304039e-05</td>\n",
       "      <td>2.118574e-06</td>\n",
       "      <td>297.340272</td>\n",
       "      <td>-10.467509</td>\n",
       "      <td>-11.695195</td>\n",
       "      <td>1.227686</td>\n",
       "    </tr>\n",
       "    <tr>\n",
       "      <th>std</th>\n",
       "      <td>6.270088e-04</td>\n",
       "      <td>2.016159e-05</td>\n",
       "      <td>4.088615</td>\n",
       "      <td>3.018724</td>\n",
       "      <td>2.936359</td>\n",
       "      <td>2.050867</td>\n",
       "    </tr>\n",
       "    <tr>\n",
       "      <th>min</th>\n",
       "      <td>2.000000e-16</td>\n",
       "      <td>3.300000e-16</td>\n",
       "      <td>273.000000</td>\n",
       "      <td>-21.405307</td>\n",
       "      <td>-21.108771</td>\n",
       "      <td>-12.221723</td>\n",
       "    </tr>\n",
       "    <tr>\n",
       "      <th>25%</th>\n",
       "      <td>5.300000e-10</td>\n",
       "      <td>9.400000e-11</td>\n",
       "      <td>296.000000</td>\n",
       "      <td>-12.561881</td>\n",
       "      <td>-13.671488</td>\n",
       "      <td>0.034589</td>\n",
       "    </tr>\n",
       "    <tr>\n",
       "      <th>50%</th>\n",
       "      <td>1.685000e-08</td>\n",
       "      <td>2.700000e-09</td>\n",
       "      <td>298.000000</td>\n",
       "      <td>-10.592396</td>\n",
       "      <td>-11.665915</td>\n",
       "      <td>0.767958</td>\n",
       "    </tr>\n",
       "    <tr>\n",
       "      <th>75%</th>\n",
       "      <td>1.200000e-06</td>\n",
       "      <td>6.622500e-08</td>\n",
       "      <td>298.000000</td>\n",
       "      <td>-8.068799</td>\n",
       "      <td>-9.846881</td>\n",
       "      <td>2.123227</td>\n",
       "    </tr>\n",
       "    <tr>\n",
       "      <th>max</th>\n",
       "      <td>4.050000e-02</td>\n",
       "      <td>6.350000e-04</td>\n",
       "      <td>338.000000</td>\n",
       "      <td>-1.898714</td>\n",
       "      <td>-4.286226</td>\n",
       "      <td>12.221723</td>\n",
       "    </tr>\n",
       "  </tbody>\n",
       "</table>\n",
       "</div>"
      ],
      "text/plain": [
       "       Affinity_mut_parsed  Affinity_wt_parsed  Temperature        dGmut  \\\n",
       "count         6.774000e+03        6.774000e+03  6774.000000  6774.000000   \n",
       "mean          3.304039e-05        2.118574e-06   297.340272   -10.467509   \n",
       "std           6.270088e-04        2.016159e-05     4.088615     3.018724   \n",
       "min           2.000000e-16        3.300000e-16   273.000000   -21.405307   \n",
       "25%           5.300000e-10        9.400000e-11   296.000000   -12.561881   \n",
       "50%           1.685000e-08        2.700000e-09   298.000000   -10.592396   \n",
       "75%           1.200000e-06        6.622500e-08   298.000000    -8.068799   \n",
       "max           4.050000e-02        6.350000e-04   338.000000    -1.898714   \n",
       "\n",
       "              dGwt          ddG  \n",
       "count  6774.000000  6774.000000  \n",
       "mean    -11.695195     1.227686  \n",
       "std       2.936359     2.050867  \n",
       "min     -21.108771   -12.221723  \n",
       "25%     -13.671488     0.034589  \n",
       "50%     -11.665915     0.767958  \n",
       "75%      -9.846881     2.123227  \n",
       "max      -4.286226    12.221723  "
      ]
     },
     "execution_count": 27,
     "metadata": {},
     "output_type": "execute_result"
    }
   ],
   "source": [
    "data_unique.describe()"
   ]
  },
  {
   "cell_type": "code",
   "execution_count": 28,
   "id": "6ec91503-4c1e-4fa7-aefa-8904273cb449",
   "metadata": {},
   "outputs": [
    {
     "name": "stderr",
     "output_type": "stream",
     "text": [
      "/tmp/ipykernel_1326/3950296386.py:1: SettingWithCopyWarning: \n",
      "A value is trying to be set on a copy of a slice from a DataFrame.\n",
      "Try using .loc[row_indexer,col_indexer] = value instead\n",
      "\n",
      "See the caveats in the documentation: https://pandas.pydata.org/pandas-docs/stable/user_guide/indexing.html#returning-a-view-versus-a-copy\n",
      "  data_unique['ddG_sign'] = (data_unique['ddG'] > 0).astype(int)\n"
     ]
    }
   ],
   "source": [
    "data_unique['ddG_sign'] = (data_unique['ddG'] > 0).astype(int)"
   ]
  },
  {
   "cell_type": "code",
   "execution_count": 29,
   "id": "e80c39ab-7031-466c-a67d-4fdb85dbf92c",
   "metadata": {},
   "outputs": [
    {
     "data": {
      "text/html": [
       "<div>\n",
       "<style scoped>\n",
       "    .dataframe tbody tr th:only-of-type {\n",
       "        vertical-align: middle;\n",
       "    }\n",
       "\n",
       "    .dataframe tbody tr th {\n",
       "        vertical-align: top;\n",
       "    }\n",
       "\n",
       "    .dataframe thead th {\n",
       "        text-align: right;\n",
       "    }\n",
       "</style>\n",
       "<table border=\"1\" class=\"dataframe\">\n",
       "  <thead>\n",
       "    <tr style=\"text-align: right;\">\n",
       "      <th></th>\n",
       "      <th>#Pdb</th>\n",
       "      <th>Mutation(s)_PDB</th>\n",
       "      <th>Mutation(s)_cleaned</th>\n",
       "      <th>iMutation_Location(s)</th>\n",
       "      <th>Hold_out_proteins</th>\n",
       "      <th>Affinity_mut_parsed</th>\n",
       "      <th>Affinity_wt_parsed</th>\n",
       "      <th>Protein 1</th>\n",
       "      <th>Protein 2</th>\n",
       "      <th>Temperature</th>\n",
       "      <th>Method</th>\n",
       "      <th>dGmut</th>\n",
       "      <th>dGwt</th>\n",
       "      <th>ddG</th>\n",
       "      <th>ddG_sign</th>\n",
       "    </tr>\n",
       "  </thead>\n",
       "  <tbody>\n",
       "    <tr>\n",
       "      <th>0</th>\n",
       "      <td>1CSE_E_I</td>\n",
       "      <td>LI45G</td>\n",
       "      <td>LI38G</td>\n",
       "      <td>COR</td>\n",
       "      <td>Pr/PI</td>\n",
       "      <td>5.260000e-11</td>\n",
       "      <td>1.120000e-12</td>\n",
       "      <td>Subtilisin Carlsberg</td>\n",
       "      <td>Eglin c</td>\n",
       "      <td>294.0</td>\n",
       "      <td>IASP</td>\n",
       "      <td>-13.827155</td>\n",
       "      <td>-16.075989</td>\n",
       "      <td>2.248833</td>\n",
       "      <td>1</td>\n",
       "    </tr>\n",
       "    <tr>\n",
       "      <th>1</th>\n",
       "      <td>1CSE_E_I</td>\n",
       "      <td>LI45S</td>\n",
       "      <td>LI38S</td>\n",
       "      <td>COR</td>\n",
       "      <td>Pr/PI</td>\n",
       "      <td>8.330000e-12</td>\n",
       "      <td>1.120000e-12</td>\n",
       "      <td>Subtilisin Carlsberg</td>\n",
       "      <td>Eglin c</td>\n",
       "      <td>294.0</td>\n",
       "      <td>IASP</td>\n",
       "      <td>-14.903760</td>\n",
       "      <td>-16.075989</td>\n",
       "      <td>1.172229</td>\n",
       "      <td>1</td>\n",
       "    </tr>\n",
       "    <tr>\n",
       "      <th>2</th>\n",
       "      <td>1CSE_E_I</td>\n",
       "      <td>LI45P</td>\n",
       "      <td>LI38P</td>\n",
       "      <td>COR</td>\n",
       "      <td>Pr/PI</td>\n",
       "      <td>1.020000e-07</td>\n",
       "      <td>1.120000e-12</td>\n",
       "      <td>Subtilisin Carlsberg</td>\n",
       "      <td>Eglin c</td>\n",
       "      <td>294.0</td>\n",
       "      <td>IASP</td>\n",
       "      <td>-9.404712</td>\n",
       "      <td>-16.075989</td>\n",
       "      <td>6.671276</td>\n",
       "      <td>1</td>\n",
       "    </tr>\n",
       "    <tr>\n",
       "      <th>3</th>\n",
       "      <td>1CSE_E_I</td>\n",
       "      <td>LI45I</td>\n",
       "      <td>LI38I</td>\n",
       "      <td>COR</td>\n",
       "      <td>Pr/PI</td>\n",
       "      <td>1.720000e-10</td>\n",
       "      <td>1.120000e-12</td>\n",
       "      <td>Subtilisin Carlsberg</td>\n",
       "      <td>Eglin c</td>\n",
       "      <td>294.0</td>\n",
       "      <td>IASP</td>\n",
       "      <td>-13.135001</td>\n",
       "      <td>-16.075989</td>\n",
       "      <td>2.940988</td>\n",
       "      <td>1</td>\n",
       "    </tr>\n",
       "    <tr>\n",
       "      <th>4</th>\n",
       "      <td>1CSE_E_I</td>\n",
       "      <td>LI45D</td>\n",
       "      <td>LI38D</td>\n",
       "      <td>COR</td>\n",
       "      <td>Pr/PI</td>\n",
       "      <td>1.920000e-09</td>\n",
       "      <td>1.120000e-12</td>\n",
       "      <td>Subtilisin Carlsberg</td>\n",
       "      <td>Eglin c</td>\n",
       "      <td>294.0</td>\n",
       "      <td>IASP</td>\n",
       "      <td>-11.725555</td>\n",
       "      <td>-16.075989</td>\n",
       "      <td>4.350434</td>\n",
       "      <td>1</td>\n",
       "    </tr>\n",
       "    <tr>\n",
       "      <th>...</th>\n",
       "      <td>...</td>\n",
       "      <td>...</td>\n",
       "      <td>...</td>\n",
       "      <td>...</td>\n",
       "      <td>...</td>\n",
       "      <td>...</td>\n",
       "      <td>...</td>\n",
       "      <td>...</td>\n",
       "      <td>...</td>\n",
       "      <td>...</td>\n",
       "      <td>...</td>\n",
       "      <td>...</td>\n",
       "      <td>...</td>\n",
       "      <td>...</td>\n",
       "      <td>...</td>\n",
       "    </tr>\n",
       "    <tr>\n",
       "      <th>7080</th>\n",
       "      <td>3QIB_ABP_CD</td>\n",
       "      <td>KP9R</td>\n",
       "      <td>KP8R</td>\n",
       "      <td>COR</td>\n",
       "      <td>TCR/pMHC,1JCK_A_B</td>\n",
       "      <td>2.400000e-04</td>\n",
       "      <td>5.500000e-06</td>\n",
       "      <td>I-Ek plus MCC peptide</td>\n",
       "      <td>2B4 TCR</td>\n",
       "      <td>298.0</td>\n",
       "      <td>SPR</td>\n",
       "      <td>-4.935527</td>\n",
       "      <td>-7.171435</td>\n",
       "      <td>2.235909</td>\n",
       "      <td>1</td>\n",
       "    </tr>\n",
       "    <tr>\n",
       "      <th>7081</th>\n",
       "      <td>3QIB_ABP_CD</td>\n",
       "      <td>TP12A</td>\n",
       "      <td>TP11A</td>\n",
       "      <td>COR</td>\n",
       "      <td>TCR/pMHC,1JCK_A_B</td>\n",
       "      <td>1.100000e-03</td>\n",
       "      <td>5.500000e-06</td>\n",
       "      <td>I-Ek plus MCC peptide</td>\n",
       "      <td>2B4 TCR</td>\n",
       "      <td>298.0</td>\n",
       "      <td>SPR</td>\n",
       "      <td>-4.034016</td>\n",
       "      <td>-7.171435</td>\n",
       "      <td>3.137419</td>\n",
       "      <td>1</td>\n",
       "    </tr>\n",
       "    <tr>\n",
       "      <th>7082</th>\n",
       "      <td>3QIB_ABP_CD</td>\n",
       "      <td>TP12S</td>\n",
       "      <td>TP11S</td>\n",
       "      <td>COR</td>\n",
       "      <td>TCR/pMHC,1JCK_A_B</td>\n",
       "      <td>3.380000e-05</td>\n",
       "      <td>5.500000e-06</td>\n",
       "      <td>I-Ek plus MCC peptide</td>\n",
       "      <td>2B4 TCR</td>\n",
       "      <td>298.0</td>\n",
       "      <td>SPR</td>\n",
       "      <td>-6.096254</td>\n",
       "      <td>-7.171435</td>\n",
       "      <td>1.075181</td>\n",
       "      <td>1</td>\n",
       "    </tr>\n",
       "    <tr>\n",
       "      <th>7083</th>\n",
       "      <td>3QIB_ABP_CD</td>\n",
       "      <td>TP12N</td>\n",
       "      <td>TP11N</td>\n",
       "      <td>COR</td>\n",
       "      <td>TCR/pMHC,1JCK_A_B</td>\n",
       "      <td>4.340000e-05</td>\n",
       "      <td>5.500000e-06</td>\n",
       "      <td>I-Ek plus MCC peptide</td>\n",
       "      <td>2B4 TCR</td>\n",
       "      <td>298.0</td>\n",
       "      <td>SPR</td>\n",
       "      <td>-5.948216</td>\n",
       "      <td>-7.171435</td>\n",
       "      <td>1.223219</td>\n",
       "      <td>1</td>\n",
       "    </tr>\n",
       "    <tr>\n",
       "      <th>7084</th>\n",
       "      <td>3QIB_ABP_CD</td>\n",
       "      <td>YP7F,TP12S</td>\n",
       "      <td>YP6F,TP11S</td>\n",
       "      <td>COR,COR</td>\n",
       "      <td>TCR/pMHC,1JCK_A_B</td>\n",
       "      <td>4.290000e-05</td>\n",
       "      <td>5.500000e-06</td>\n",
       "      <td>I-Ek plus MCC peptide</td>\n",
       "      <td>2B4 TCR</td>\n",
       "      <td>298.0</td>\n",
       "      <td>SPR</td>\n",
       "      <td>-5.955078</td>\n",
       "      <td>-7.171435</td>\n",
       "      <td>1.216357</td>\n",
       "      <td>1</td>\n",
       "    </tr>\n",
       "  </tbody>\n",
       "</table>\n",
       "<p>6774 rows × 15 columns</p>\n",
       "</div>"
      ],
      "text/plain": [
       "             #Pdb Mutation(s)_PDB Mutation(s)_cleaned iMutation_Location(s)  \\\n",
       "0        1CSE_E_I           LI45G               LI38G                   COR   \n",
       "1        1CSE_E_I           LI45S               LI38S                   COR   \n",
       "2        1CSE_E_I           LI45P               LI38P                   COR   \n",
       "3        1CSE_E_I           LI45I               LI38I                   COR   \n",
       "4        1CSE_E_I           LI45D               LI38D                   COR   \n",
       "...           ...             ...                 ...                   ...   \n",
       "7080  3QIB_ABP_CD            KP9R                KP8R                   COR   \n",
       "7081  3QIB_ABP_CD           TP12A               TP11A                   COR   \n",
       "7082  3QIB_ABP_CD           TP12S               TP11S                   COR   \n",
       "7083  3QIB_ABP_CD           TP12N               TP11N                   COR   \n",
       "7084  3QIB_ABP_CD      YP7F,TP12S          YP6F,TP11S               COR,COR   \n",
       "\n",
       "      Hold_out_proteins  Affinity_mut_parsed  Affinity_wt_parsed  \\\n",
       "0                 Pr/PI         5.260000e-11        1.120000e-12   \n",
       "1                 Pr/PI         8.330000e-12        1.120000e-12   \n",
       "2                 Pr/PI         1.020000e-07        1.120000e-12   \n",
       "3                 Pr/PI         1.720000e-10        1.120000e-12   \n",
       "4                 Pr/PI         1.920000e-09        1.120000e-12   \n",
       "...                 ...                  ...                 ...   \n",
       "7080  TCR/pMHC,1JCK_A_B         2.400000e-04        5.500000e-06   \n",
       "7081  TCR/pMHC,1JCK_A_B         1.100000e-03        5.500000e-06   \n",
       "7082  TCR/pMHC,1JCK_A_B         3.380000e-05        5.500000e-06   \n",
       "7083  TCR/pMHC,1JCK_A_B         4.340000e-05        5.500000e-06   \n",
       "7084  TCR/pMHC,1JCK_A_B         4.290000e-05        5.500000e-06   \n",
       "\n",
       "                  Protein 1 Protein 2  Temperature Method      dGmut  \\\n",
       "0      Subtilisin Carlsberg   Eglin c        294.0   IASP -13.827155   \n",
       "1      Subtilisin Carlsberg   Eglin c        294.0   IASP -14.903760   \n",
       "2      Subtilisin Carlsberg   Eglin c        294.0   IASP  -9.404712   \n",
       "3      Subtilisin Carlsberg   Eglin c        294.0   IASP -13.135001   \n",
       "4      Subtilisin Carlsberg   Eglin c        294.0   IASP -11.725555   \n",
       "...                     ...       ...          ...    ...        ...   \n",
       "7080  I-Ek plus MCC peptide   2B4 TCR        298.0    SPR  -4.935527   \n",
       "7081  I-Ek plus MCC peptide   2B4 TCR        298.0    SPR  -4.034016   \n",
       "7082  I-Ek plus MCC peptide   2B4 TCR        298.0    SPR  -6.096254   \n",
       "7083  I-Ek plus MCC peptide   2B4 TCR        298.0    SPR  -5.948216   \n",
       "7084  I-Ek plus MCC peptide   2B4 TCR        298.0    SPR  -5.955078   \n",
       "\n",
       "           dGwt       ddG  ddG_sign  \n",
       "0    -16.075989  2.248833         1  \n",
       "1    -16.075989  1.172229         1  \n",
       "2    -16.075989  6.671276         1  \n",
       "3    -16.075989  2.940988         1  \n",
       "4    -16.075989  4.350434         1  \n",
       "...         ...       ...       ...  \n",
       "7080  -7.171435  2.235909         1  \n",
       "7081  -7.171435  3.137419         1  \n",
       "7082  -7.171435  1.075181         1  \n",
       "7083  -7.171435  1.223219         1  \n",
       "7084  -7.171435  1.216357         1  \n",
       "\n",
       "[6774 rows x 15 columns]"
      ]
     },
     "execution_count": 29,
     "metadata": {},
     "output_type": "execute_result"
    }
   ],
   "source": [
    "data_unique"
   ]
  },
  {
   "cell_type": "code",
   "execution_count": 37,
   "id": "35b3964c-b72d-4fd4-8620-7576d8ac2255",
   "metadata": {},
   "outputs": [
    {
     "data": {
      "image/png": "[encoded data removed]",
      "text/plain": [
       "<Figure size 640x480 with 1 Axes>"
      ]
     },
     "metadata": {},
     "output_type": "display_data"
    }
   ],
   "source": [
    "data_unique['ddG_sign'].value_counts().plot(kind='bar')\n",
    "plt.title('Распределение знака ddG')\n",
    "plt.show()"
   ]
  },
  {
   "cell_type": "markdown",
   "id": "694e7ee7-39db-47c9-b8df-ecc9b4d66575",
   "metadata": {},
   "source": [
    "Судя по распределению нашей целевой переменной, модель будет лучше предсказывать положительные значения $\\Delta \\Delta G$. Т.е., можно ожидать баес."
   ]
  },
  {
   "cell_type": "code",
   "execution_count": 38,
   "id": "feb44403-f088-4392-b40b-00c067590ce9",
   "metadata": {},
   "outputs": [
    {
     "data": {
      "text/plain": [
       "Index(['#Pdb', 'Mutation(s)_PDB', 'Mutation(s)_cleaned',\n",
       "       'iMutation_Location(s)', 'Hold_out_proteins', 'Affinity_mut_parsed',\n",
       "       'Affinity_wt_parsed', 'Protein 1', 'Protein 2', 'Temperature', 'Method',\n",
       "       'dGmut', 'dGwt', 'ddG', 'ddG_sign'],\n",
       "      dtype='object')"
      ]
     },
     "execution_count": 38,
     "metadata": {},
     "output_type": "execute_result"
    }
   ],
   "source": [
    "data_unique.columns"
   ]
  },
  {
   "cell_type": "markdown",
   "id": "a68a2675-7253-4723-92f6-ae084b2dc7b6",
   "metadata": {},
   "source": [
    "Все данные числового формата использовались для вычисления нашей response переменной. Обучать на них модель нельзя."
   ]
  },
  {
   "cell_type": "code",
   "execution_count": 39,
   "id": "1a85aac9-a1ff-4454-b168-be52e4c00ca8",
   "metadata": {},
   "outputs": [],
   "source": [
    "numeric_cols = ['Affinity_mut_parsed','Affinity_wt_parsed', 'Temperature',\n",
    "               'dGmut', 'dGwt', 'ddG', 'ddG_sign']"
   ]
  },
  {
   "cell_type": "markdown",
   "id": "3f5f36e0-0ab0-4e9a-8fe6-10f716601449",
   "metadata": {},
   "source": [
    "Поэтому мы будем выбирать фичи для обучения из категориальных признаков:"
   ]
  },
  {
   "cell_type": "code",
   "execution_count": 40,
   "id": "028bf244-8b08-49d0-a18b-e9e077a9dc64",
   "metadata": {},
   "outputs": [],
   "source": [
    "cat_cols = ['#Pdb', 'Mutation(s)_PDB', 'Mutation(s)_cleaned',\n",
    "       'iMutation_Location(s)', 'Hold_out_proteins','Protein 1', 'Protein 2','Method']"
   ]
  },
  {
   "cell_type": "code",
   "execution_count": 41,
   "id": "75c50c8f-ebfd-4090-835e-e855a27651b4",
   "metadata": {},
   "outputs": [
    {
     "data": {
      "text/html": [
       "<div>\n",
       "<style scoped>\n",
       "    .dataframe tbody tr th:only-of-type {\n",
       "        vertical-align: middle;\n",
       "    }\n",
       "\n",
       "    .dataframe tbody tr th {\n",
       "        vertical-align: top;\n",
       "    }\n",
       "\n",
       "    .dataframe thead th {\n",
       "        text-align: right;\n",
       "    }\n",
       "</style>\n",
       "<table border=\"1\" class=\"dataframe\">\n",
       "  <thead>\n",
       "    <tr style=\"text-align: right;\">\n",
       "      <th></th>\n",
       "      <th>#Pdb</th>\n",
       "      <th>Mutation(s)_PDB</th>\n",
       "      <th>Mutation(s)_cleaned</th>\n",
       "      <th>iMutation_Location(s)</th>\n",
       "      <th>Hold_out_proteins</th>\n",
       "      <th>Protein 1</th>\n",
       "      <th>Protein 2</th>\n",
       "      <th>Method</th>\n",
       "    </tr>\n",
       "  </thead>\n",
       "  <tbody>\n",
       "    <tr>\n",
       "      <th>0</th>\n",
       "      <td>1CSE_E_I</td>\n",
       "      <td>LI45G</td>\n",
       "      <td>LI38G</td>\n",
       "      <td>COR</td>\n",
       "      <td>Pr/PI</td>\n",
       "      <td>Subtilisin Carlsberg</td>\n",
       "      <td>Eglin c</td>\n",
       "      <td>IASP</td>\n",
       "    </tr>\n",
       "    <tr>\n",
       "      <th>1</th>\n",
       "      <td>1CSE_E_I</td>\n",
       "      <td>LI45S</td>\n",
       "      <td>LI38S</td>\n",
       "      <td>COR</td>\n",
       "      <td>Pr/PI</td>\n",
       "      <td>Subtilisin Carlsberg</td>\n",
       "      <td>Eglin c</td>\n",
       "      <td>IASP</td>\n",
       "    </tr>\n",
       "    <tr>\n",
       "      <th>2</th>\n",
       "      <td>1CSE_E_I</td>\n",
       "      <td>LI45P</td>\n",
       "      <td>LI38P</td>\n",
       "      <td>COR</td>\n",
       "      <td>Pr/PI</td>\n",
       "      <td>Subtilisin Carlsberg</td>\n",
       "      <td>Eglin c</td>\n",
       "      <td>IASP</td>\n",
       "    </tr>\n",
       "    <tr>\n",
       "      <th>3</th>\n",
       "      <td>1CSE_E_I</td>\n",
       "      <td>LI45I</td>\n",
       "      <td>LI38I</td>\n",
       "      <td>COR</td>\n",
       "      <td>Pr/PI</td>\n",
       "      <td>Subtilisin Carlsberg</td>\n",
       "      <td>Eglin c</td>\n",
       "      <td>IASP</td>\n",
       "    </tr>\n",
       "    <tr>\n",
       "      <th>4</th>\n",
       "      <td>1CSE_E_I</td>\n",
       "      <td>LI45D</td>\n",
       "      <td>LI38D</td>\n",
       "      <td>COR</td>\n",
       "      <td>Pr/PI</td>\n",
       "      <td>Subtilisin Carlsberg</td>\n",
       "      <td>Eglin c</td>\n",
       "      <td>IASP</td>\n",
       "    </tr>\n",
       "    <tr>\n",
       "      <th>...</th>\n",
       "      <td>...</td>\n",
       "      <td>...</td>\n",
       "      <td>...</td>\n",
       "      <td>...</td>\n",
       "      <td>...</td>\n",
       "      <td>...</td>\n",
       "      <td>...</td>\n",
       "      <td>...</td>\n",
       "    </tr>\n",
       "    <tr>\n",
       "      <th>97</th>\n",
       "      <td>1IAR_A_B</td>\n",
       "      <td>RA88Q</td>\n",
       "      <td>RA88Q</td>\n",
       "      <td>COR</td>\n",
       "      <td>1IAR_A_B</td>\n",
       "      <td>Interleukin-4</td>\n",
       "      <td>Interleukin-4 receptor</td>\n",
       "      <td>SPR</td>\n",
       "    </tr>\n",
       "    <tr>\n",
       "      <th>99</th>\n",
       "      <td>1IAR_A_B</td>\n",
       "      <td>RA88A</td>\n",
       "      <td>RA88A</td>\n",
       "      <td>COR</td>\n",
       "      <td>1IAR_A_B</td>\n",
       "      <td>Interleukin-4</td>\n",
       "      <td>Interleukin-4 receptor</td>\n",
       "      <td>SPR</td>\n",
       "    </tr>\n",
       "    <tr>\n",
       "      <th>100</th>\n",
       "      <td>1IAR_A_B</td>\n",
       "      <td>NA89A</td>\n",
       "      <td>NA89A</td>\n",
       "      <td>SUP</td>\n",
       "      <td>1IAR_A_B</td>\n",
       "      <td>Interleukin-4</td>\n",
       "      <td>Interleukin-4 receptor</td>\n",
       "      <td>SPR</td>\n",
       "    </tr>\n",
       "    <tr>\n",
       "      <th>102</th>\n",
       "      <td>1IAR_A_B</td>\n",
       "      <td>WA91A</td>\n",
       "      <td>WA91A</td>\n",
       "      <td>COR</td>\n",
       "      <td>1IAR_A_B</td>\n",
       "      <td>Interleukin-4</td>\n",
       "      <td>Interleukin-4 receptor</td>\n",
       "      <td>SPR</td>\n",
       "    </tr>\n",
       "    <tr>\n",
       "      <th>103</th>\n",
       "      <td>1IAR_A_B</td>\n",
       "      <td>WA91D</td>\n",
       "      <td>WA91D</td>\n",
       "      <td>COR</td>\n",
       "      <td>1IAR_A_B</td>\n",
       "      <td>Interleukin-4</td>\n",
       "      <td>Interleukin-4 receptor</td>\n",
       "      <td>SPR</td>\n",
       "    </tr>\n",
       "  </tbody>\n",
       "</table>\n",
       "<p>100 rows × 8 columns</p>\n",
       "</div>"
      ],
      "text/plain": [
       "         #Pdb Mutation(s)_PDB Mutation(s)_cleaned iMutation_Location(s)  \\\n",
       "0    1CSE_E_I           LI45G               LI38G                   COR   \n",
       "1    1CSE_E_I           LI45S               LI38S                   COR   \n",
       "2    1CSE_E_I           LI45P               LI38P                   COR   \n",
       "3    1CSE_E_I           LI45I               LI38I                   COR   \n",
       "4    1CSE_E_I           LI45D               LI38D                   COR   \n",
       "..        ...             ...                 ...                   ...   \n",
       "97   1IAR_A_B           RA88Q               RA88Q                   COR   \n",
       "99   1IAR_A_B           RA88A               RA88A                   COR   \n",
       "100  1IAR_A_B           NA89A               NA89A                   SUP   \n",
       "102  1IAR_A_B           WA91A               WA91A                   COR   \n",
       "103  1IAR_A_B           WA91D               WA91D                   COR   \n",
       "\n",
       "    Hold_out_proteins             Protein 1               Protein 2 Method  \n",
       "0               Pr/PI  Subtilisin Carlsberg                 Eglin c   IASP  \n",
       "1               Pr/PI  Subtilisin Carlsberg                 Eglin c   IASP  \n",
       "2               Pr/PI  Subtilisin Carlsberg                 Eglin c   IASP  \n",
       "3               Pr/PI  Subtilisin Carlsberg                 Eglin c   IASP  \n",
       "4               Pr/PI  Subtilisin Carlsberg                 Eglin c   IASP  \n",
       "..                ...                   ...                     ...    ...  \n",
       "97           1IAR_A_B         Interleukin-4  Interleukin-4 receptor    SPR  \n",
       "99           1IAR_A_B         Interleukin-4  Interleukin-4 receptor    SPR  \n",
       "100          1IAR_A_B         Interleukin-4  Interleukin-4 receptor    SPR  \n",
       "102          1IAR_A_B         Interleukin-4  Interleukin-4 receptor    SPR  \n",
       "103          1IAR_A_B         Interleukin-4  Interleukin-4 receptor    SPR  \n",
       "\n",
       "[100 rows x 8 columns]"
      ]
     },
     "execution_count": 41,
     "metadata": {},
     "output_type": "execute_result"
    }
   ],
   "source": [
    "data_unique[cat_cols][:100]"
   ]
  },
  {
   "cell_type": "markdown",
   "id": "8053395a-0b62-48a9-a364-c75302e59494",
   "metadata": {},
   "source": [
    "Из наших данных числовые фичи использовать для предсказания нелогично, так как через них мы получили предсказываемую фичу. Т.е., надо выбрать категориальные признаки для модели. Напрашивается использование модели, которая сразу принимает на вход категориальные данные, например, CatBoost, но попробуем сначала лог регрессию.<br>\n",
    "Колонки метод (эксперимента), Pdb (ID белка в базе данных PDB), Protein 1 (название первой субединицы в комплексе), Protein 2 (название второй субъединицы в комплексе) и Hold_out_proteins (параметр для кросс-валидации при оценке эффективности моделей) в физическом смысле не влияют на конечный параметр. Поэтому тренировать модель мы будем на типе мутации (Mutation(s)_cleaned) и ее расположении (iMutation_location(s))."
   ]
  },
  {
   "cell_type": "code",
   "execution_count": 56,
   "id": "ae37e0e4-8c64-4d6c-a152-eca6e25143cd",
   "metadata": {},
   "outputs": [
    {
     "name": "stdout",
     "output_type": "stream",
     "text": [
      "Средний F1-score по классу 1: 0.860\n",
      "              precision    recall  f1-score   support\n",
      "\n",
      "           0       0.71      0.09      0.16       327\n",
      "           1       0.77      0.99      0.87      1028\n",
      "\n",
      "    accuracy                           0.77      1355\n",
      "   macro avg       0.74      0.54      0.51      1355\n",
      "weighted avg       0.76      0.77      0.70      1355\n",
      "\n"
     ]
    }
   ],
   "source": [
    "features = [\n",
    "    'Mutation(s)_cleaned',\n",
    "    'iMutation_Location(s)'\n",
    "    ]\n",
    "cat_features = features\n",
    "X = data_unique[features]\n",
    "y = data_unique[\"ddG_sign\"]\n",
    "groups = data_unique[\"Hold_out_proteins\"]\n",
    "\n",
    "# оne-hot-кодирование категориальных признаков\n",
    "encoder = OneHotEncoder(handle_unknown='ignore')\n",
    "X_encoded = encoder.fit_transform(X)\n",
    "\n",
    "# делим на train/test (80/20)\n",
    "X_train, X_test, y_train, y_test, groups_train, groups_test = train_test_split(\n",
    "    X_encoded, y, groups, test_size=0.2, random_state=42, stratify=y\n",
    ")\n",
    "\n",
    "# кросс-валидация с логистической регрессией\n",
    "gkf = GroupKFold(n_splits=5)\n",
    "cv_reports = []\n",
    "\n",
    "for train_idx, val_idx in gkf.split(X_train, y_train, groups=groups_train):\n",
    "    X_tr, X_val = X_train[train_idx], X_train[val_idx]\n",
    "    y_tr, y_val = y_train.iloc[train_idx], y_train.iloc[val_idx]\n",
    "    \n",
    "    model = LogisticRegression(\n",
    "        penalty='l2',\n",
    "        C=1.0,          \n",
    "        max_iter=1000,\n",
    "        solver='lbfgs'\n",
    "    )\n",
    "    model.fit(X_tr, y_tr)\n",
    "    y_pred = model.predict(X_val)\n",
    "    report = classification_report(y_val, y_pred, output_dict=True)\n",
    "    cv_reports.append(report)\n",
    "\n",
    "# оценка среднего качества по кросс-валидации\n",
    "avg_f1 = sum(r['1']['f1-score'] for r in cv_reports) / len(cv_reports)\n",
    "print(f'Средний F1-score по классу 1: {avg_f1:.3f}')\n",
    "\n",
    "# финальное обучение и оценка на тесте\n",
    "final_model = LogisticRegression(\n",
    "    penalty='l2',\n",
    "    C=1.0,\n",
    "    max_iter=1000,\n",
    "    solver='lbfgs'\n",
    ")\n",
    "final_model.fit(X_train, y_train)\n",
    "y_test_pred = final_model.predict(X_test)\n",
    "\n",
    "print(classification_report(y_test, y_test_pred))"
   ]
  },
  {
   "cell_type": "code",
   "execution_count": 57,
   "id": "5c52c69a-db03-4e00-9f1d-fb5dea3653de",
   "metadata": {},
   "outputs": [
    {
     "data": {
      "image/png": "[encoded data removed]",
      "text/plain": [
       "<Figure size 640x480 with 2 Axes>"
      ]
     },
     "metadata": {},
     "output_type": "display_data"
    }
   ],
   "source": [
    "ConfusionMatrixDisplay.from_estimator(final_model, X_test, y_test)\n",
    "plt.title(\"Матрица ошибок\")\n",
    "plt.show()"
   ]
  },
  {
   "cell_type": "markdown",
   "id": "b2616de0-1247-4d94-97ad-f00ac89ebe89",
   "metadata": {},
   "source": [
    "На полученном выше матрице ошибок и соответствующих метриках мы можем заметить, что, как и ожидалось, модель лучше предсказывает положительные значения $\\Delta \\Delta G$, потому что изначально доля в трейне положительных значений, а значит доля единиц, была выше. "
   ]
  },
  {
   "cell_type": "code",
   "execution_count": 58,
   "id": "75f83763-2350-4d84-90b5-6efccb76d1fe",
   "metadata": {},
   "outputs": [
    {
     "data": {
      "image/png": "[encoded data removed]",
      "text/plain": [
       "<Figure size 640x480 with 1 Axes>"
      ]
     },
     "metadata": {},
     "output_type": "display_data"
    }
   ],
   "source": [
    "RocCurveDisplay.from_estimator(final_model, X_test, y_test)\n",
    "plt.title(\"ROC-кривая\")\n",
    "plt.show()"
   ]
  },
  {
   "cell_type": "markdown",
   "id": "247af7cc-3790-4ac6-9431-124165c8f0e5",
   "metadata": {},
   "source": [
    "На ROC-кривой мы видим, что площадь под кривой больше 0.5, значит, наша модель не случайно угадывает значения, но нуждается в улучшении."
   ]
  },
  {
   "cell_type": "code",
   "execution_count": 59,
   "id": "d5b63c01-d40a-4927-8edf-ae38063fab53",
   "metadata": {},
   "outputs": [
    {
     "data": {
      "image/png": "[encoded data removed]",
      "text/plain": [
       "<Figure size 640x480 with 1 Axes>"
      ]
     },
     "metadata": {},
     "output_type": "display_data"
    }
   ],
   "source": [
    "PrecisionRecallDisplay.from_estimator(final_model, X_test, y_test)\n",
    "plt.show()"
   ]
  },
  {
   "cell_type": "markdown",
   "id": "ee2cf8fe-b144-47f7-a503-381b4803f921",
   "metadata": {},
   "source": [
    "На этом графике опять же мы можем увидеть, что класс 1 предсказывается хорошо, т.е. положительные значения $\\Delta \\Delta G$ предсказываются хорошо."
   ]
  },
  {
   "cell_type": "code",
   "execution_count": 60,
   "id": "a22a79e6-9813-4b87-8bf1-30ece44be3ef",
   "metadata": {},
   "outputs": [
    {
     "data": {
      "image/png": "[encoded data removed]",
      "text/plain": [
       "<Figure size 640x480 with 1 Axes>"
      ]
     },
     "metadata": {},
     "output_type": "display_data"
    }
   ],
   "source": [
    "prob_pos = final_model.predict_proba(X_test)[:, 1]\n",
    "prob_true, prob_pred = calibration_curve(y_test, prob_pos, n_bins=10)\n",
    "plt.plot(prob_pred, prob_true, marker='o')\n",
    "plt.plot([0, 1], [0, 1], linestyle='--')\n",
    "plt.xlabel('Средняя предсказанная вероятность')\n",
    "plt.ylabel('Доля фактически истинных значений')\n",
    "plt.title('Калибровочный график')\n",
    "plt.show()"
   ]
  },
  {
   "cell_type": "markdown",
   "id": "be9c9ae2-7979-4534-a341-46894cbf3a3f",
   "metadata": {},
   "source": [
    "Отклонение от идеальной калибровки в районе 0.2 - 0.4 скорее всего следствие дисбаланса в целевой переменной и малым количеством данных."
   ]
  },
  {
   "cell_type": "code",
   "execution_count": 61,
   "id": "170f68bd-79a7-4e46-a6ab-bea1a03458bf",
   "metadata": {},
   "outputs": [
    {
     "data": {
      "image/png": "[encoded data removed]",
      "text/plain": [
       "<Figure size 640x480 with 1 Axes>"
      ]
     },
     "metadata": {},
     "output_type": "display_data"
    }
   ],
   "source": [
    "train_sizes, train_scores, test_scores = learning_curve(final_model, X_train, y_train, cv=5)\n",
    "plt.plot(train_sizes, np.mean(train_scores, axis=1), label='Трейн')\n",
    "plt.plot(train_sizes, np.mean(test_scores, axis=1), label='Валидация')\n",
    "plt.xlabel('Размер обучающей выборки')\n",
    "plt.ylabel('Скор')\n",
    "plt.legend()\n",
    "plt.title('Обучающая кривая')\n",
    "plt.show()"
   ]
  },
  {
   "cell_type": "markdown",
   "id": "ea28bc24-0af9-4b2f-95a7-f724a4aa0d0d",
   "metadata": {},
   "source": [
    "Большой разрыв в скоре между трейном и валидацией говорит о переобучении. Скорее всего, часть данных утекает из теста в трейн."
   ]
  },
  {
   "cell_type": "markdown",
   "id": "c5f5fbba-a726-4cd7-9e8a-95dbbc1f480e",
   "metadata": {},
   "source": [
    "Попробуем catboost без групп, вдруг это сработает лучше"
   ]
  },
  {
   "cell_type": "code",
   "execution_count": 62,
   "id": "3a1b77d0-a455-43bc-9ece-f09d06b95b01",
   "metadata": {},
   "outputs": [
    {
     "name": "stdout",
     "output_type": "stream",
     "text": [
      "0:\tlearn: 0.6823121\ttest: 0.6820716\tbest: 0.6820716 (0)\ttotal: 276ms\tremaining: 4m 36s\n",
      "100:\tlearn: 0.4968673\ttest: 0.4928332\tbest: 0.4928332 (100)\ttotal: 2.49s\tremaining: 22.2s\n",
      "200:\tlearn: 0.4919831\ttest: 0.4912581\tbest: 0.4912257 (186)\ttotal: 4.24s\tremaining: 16.8s\n",
      "300:\tlearn: 0.4898897\ttest: 0.4913772\tbest: 0.4911589 (258)\ttotal: 5.94s\tremaining: 13.8s\n",
      "Stopped by overfitting detector  (50 iterations wait)\n",
      "\n",
      "bestTest = 0.4911589047\n",
      "bestIteration = 258\n",
      "\n",
      "Shrink model to first 259 iterations.\n",
      "0:\tlearn: 0.6823092\ttotal: 91.4ms\tremaining: 1m 31s\n",
      "100:\tlearn: 0.4967710\ttotal: 1.8s\tremaining: 16s\n",
      "200:\tlearn: 0.4914316\ttotal: 3.4s\tremaining: 13.5s\n",
      "300:\tlearn: 0.4893239\ttotal: 5.89s\tremaining: 13.7s\n",
      "400:\tlearn: 0.4879841\ttotal: 7.48s\tremaining: 11.2s\n",
      "500:\tlearn: 0.4867784\ttotal: 9.1s\tremaining: 9.06s\n",
      "600:\tlearn: 0.4854111\ttotal: 10.8s\tremaining: 7.14s\n",
      "700:\tlearn: 0.4839863\ttotal: 12.4s\tremaining: 5.27s\n",
      "800:\tlearn: 0.4825492\ttotal: 14.1s\tremaining: 3.49s\n",
      "900:\tlearn: 0.4814562\ttotal: 18.2s\tremaining: 2s\n",
      "999:\tlearn: 0.4804327\ttotal: 19.9s\tremaining: 0us\n",
      "0:\tlearn: 0.6827365\ttotal: 131ms\tremaining: 2m 10s\n",
      "100:\tlearn: 0.4992420\ttotal: 1.79s\tremaining: 15.9s\n",
      "200:\tlearn: 0.4943377\ttotal: 3.38s\tremaining: 13.4s\n",
      "300:\tlearn: 0.4923739\ttotal: 4.9s\tremaining: 11.4s\n",
      "400:\tlearn: 0.4908516\ttotal: 6.99s\tremaining: 10.4s\n",
      "500:\tlearn: 0.4892873\ttotal: 8.73s\tremaining: 8.7s\n",
      "600:\tlearn: 0.4874359\ttotal: 10.3s\tremaining: 6.86s\n",
      "700:\tlearn: 0.4859579\ttotal: 12s\tremaining: 5.1s\n",
      "800:\tlearn: 0.4846505\ttotal: 13.6s\tremaining: 3.38s\n",
      "900:\tlearn: 0.4834473\ttotal: 15.3s\tremaining: 1.68s\n",
      "999:\tlearn: 0.4823043\ttotal: 16.9s\tremaining: 0us\n",
      "0:\tlearn: 0.6816204\ttotal: 29.9ms\tremaining: 29.9s\n",
      "100:\tlearn: 0.4856596\ttotal: 1.7s\tremaining: 15.2s\n",
      "200:\tlearn: 0.4787479\ttotal: 3.32s\tremaining: 13.2s\n",
      "300:\tlearn: 0.4766207\ttotal: 4.96s\tremaining: 11.5s\n",
      "400:\tlearn: 0.4751952\ttotal: 6.69s\tremaining: 9.99s\n",
      "500:\tlearn: 0.4738867\ttotal: 8.33s\tremaining: 8.3s\n",
      "600:\tlearn: 0.4725300\ttotal: 9.96s\tremaining: 6.61s\n",
      "700:\tlearn: 0.4713019\ttotal: 11.7s\tremaining: 4.98s\n",
      "800:\tlearn: 0.4702111\ttotal: 13.3s\tremaining: 3.29s\n",
      "900:\tlearn: 0.4689193\ttotal: 15s\tremaining: 1.65s\n",
      "999:\tlearn: 0.4679529\ttotal: 16.7s\tremaining: 0us\n",
      "0:\tlearn: 0.6830795\ttotal: 29.8ms\tremaining: 29.8s\n",
      "100:\tlearn: 0.5012622\ttotal: 1.74s\tremaining: 15.5s\n",
      "200:\tlearn: 0.4958549\ttotal: 3.44s\tremaining: 13.7s\n",
      "300:\tlearn: 0.4935779\ttotal: 5.14s\tremaining: 11.9s\n",
      "400:\tlearn: 0.4919812\ttotal: 6.8s\tremaining: 10.2s\n",
      "500:\tlearn: 0.4905766\ttotal: 8.5s\tremaining: 8.46s\n",
      "600:\tlearn: 0.4888728\ttotal: 10.2s\tremaining: 6.75s\n",
      "700:\tlearn: 0.4876482\ttotal: 11.9s\tremaining: 5.07s\n",
      "800:\tlearn: 0.4864195\ttotal: 13.5s\tremaining: 3.35s\n",
      "900:\tlearn: 0.4852919\ttotal: 15.1s\tremaining: 1.66s\n",
      "999:\tlearn: 0.4844423\ttotal: 16.7s\tremaining: 0us\n",
      "0:\tlearn: 0.6824548\ttotal: 39.4ms\tremaining: 39.3s\n",
      "100:\tlearn: 0.4935630\ttotal: 1.74s\tremaining: 15.5s\n",
      "200:\tlearn: 0.4881659\ttotal: 3.41s\tremaining: 13.6s\n",
      "300:\tlearn: 0.4860727\ttotal: 4.99s\tremaining: 11.6s\n",
      "400:\tlearn: 0.4843858\ttotal: 6.65s\tremaining: 9.93s\n",
      "500:\tlearn: 0.4830997\ttotal: 8.34s\tremaining: 8.31s\n",
      "600:\tlearn: 0.4818665\ttotal: 10s\tremaining: 6.65s\n",
      "700:\tlearn: 0.4806542\ttotal: 11.6s\tremaining: 4.97s\n",
      "800:\tlearn: 0.4796092\ttotal: 13.3s\tremaining: 3.3s\n",
      "900:\tlearn: 0.4786354\ttotal: 14.8s\tremaining: 1.63s\n",
      "999:\tlearn: 0.4778006\ttotal: 16.5s\tremaining: 0us\n",
      "F1-score по кросс-валидации: 0.852\n"
     ]
    }
   ],
   "source": [
    "features = [\n",
    "    'Mutation(s)_cleaned',\n",
    "    'iMutation_Location(s)'\n",
    "    ]\n",
    "cat_features = features\n",
    "X = data_unique[features]\n",
    "y = data_unique[\"ddG_sign\"]\n",
    "\n",
    "# train/test split\n",
    "X_train, X_test, y_train, y_test = train_test_split(\n",
    "    X, y, test_size=0.2, random_state=42, stratify=y\n",
    ")\n",
    "\n",
    "# CatBoost\n",
    "model = CatBoostClassifier(\n",
    "    iterations=1000,\n",
    "    learning_rate=0.03,\n",
    "    depth=4,\n",
    "    l2_leaf_reg=10,\n",
    "    subsample=0.8,\n",
    "    cat_features=cat_features,\n",
    "    early_stopping_rounds=50,\n",
    "    verbose=100\n",
    ")\n",
    "model.fit(X_train, y_train, eval_set=(X_test, y_test))\n",
    "\n",
    "# Кросс-валидация\n",
    "cv_scores = cross_val_score(\n",
    "    model, X, y, cv=5, scoring='f1'\n",
    ")\n",
    "print(f'F1-score по кросс-валидации: {cv_scores.mean():.3f}')"
   ]
  },
  {
   "cell_type": "code",
   "execution_count": 63,
   "id": "9fb93101-b343-45a0-b46f-0a848eaf6b33",
   "metadata": {},
   "outputs": [
    {
     "data": {
      "image/png": "[encoded data removed]",
      "text/plain": [
       "<Figure size 640x480 with 2 Axes>"
      ]
     },
     "metadata": {},
     "output_type": "display_data"
    }
   ],
   "source": [
    "ConfusionMatrixDisplay.from_estimator(model, X_test, y_test)\n",
    "plt.title(\"Матрица ошибок\")\n",
    "plt.show()"
   ]
  },
  {
   "cell_type": "code",
   "execution_count": 64,
   "id": "c82312ed-863e-41a5-a63c-9f88918c5f4c",
   "metadata": {},
   "outputs": [
    {
     "name": "stdout",
     "output_type": "stream",
     "text": [
      "              precision    recall  f1-score   support\n",
      "\n",
      "           0       0.65      0.19      0.29       327\n",
      "           1       0.79      0.97      0.87      1028\n",
      "\n",
      "    accuracy                           0.78      1355\n",
      "   macro avg       0.72      0.58      0.58      1355\n",
      "weighted avg       0.76      0.78      0.73      1355\n",
      "\n"
     ]
    }
   ],
   "source": [
    "test_preds = model.predict(X_test)\n",
    "print(classification_report(y_test, test_preds))"
   ]
  },
  {
   "cell_type": "code",
   "execution_count": 65,
   "id": "8746965f-5d7a-4f8c-a28c-8da52e47777e",
   "metadata": {},
   "outputs": [
    {
     "data": {
      "image/png": "[encoded data removed]",
      "text/plain": [
       "<Figure size 640x480 with 1 Axes>"
      ]
     },
     "metadata": {},
     "output_type": "display_data"
    }
   ],
   "source": [
    "RocCurveDisplay.from_estimator(model, X_test, y_test)\n",
    "plt.title(\"ROC-кривая\")\n",
    "plt.show()"
   ]
  },
  {
   "cell_type": "code",
   "execution_count": 66,
   "id": "65b86f39-0abc-47ea-8e08-fa44e535d587",
   "metadata": {},
   "outputs": [
    {
     "data": {
      "image/png": "[encoded data removed]",
      "text/plain": [
       "<Figure size 640x480 with 1 Axes>"
      ]
     },
     "metadata": {},
     "output_type": "display_data"
    }
   ],
   "source": [
    "PrecisionRecallDisplay.from_estimator(model, X_test, y_test)\n",
    "plt.show()"
   ]
  },
  {
   "cell_type": "code",
   "execution_count": 67,
   "id": "eb209aa2-ddb1-4c27-b826-6c4a76eda11d",
   "metadata": {},
   "outputs": [
    {
     "data": {
      "image/png": "[encoded data removed]",
      "text/plain": [
       "<Figure size 640x480 with 1 Axes>"
      ]
     },
     "metadata": {},
     "output_type": "display_data"
    }
   ],
   "source": [
    "prob_pos = model.predict_proba(X_test)[:, 1]\n",
    "prob_true, prob_pred = calibration_curve(y_test, prob_pos, n_bins=10)\n",
    "plt.plot(prob_pred, prob_true, marker='o')\n",
    "plt.plot([0, 1], [0, 1], linestyle='--')\n",
    "plt.xlabel('Средняя предсказанная вероятность')\n",
    "plt.ylabel('Доля фактически истинных значений')\n",
    "plt.title('Калибровочный график')\n",
    "plt.show()"
   ]
  },
  {
   "cell_type": "code",
   "execution_count": 68,
   "id": "e122ef96-6441-4508-a549-f42f7c3d7864",
   "metadata": {},
   "outputs": [
    {
     "name": "stdout",
     "output_type": "stream",
     "text": [
      "0:\tlearn: 0.6825725\ttotal: 46.4ms\tremaining: 46.4s\n",
      "100:\tlearn: 0.4968365\ttotal: 269ms\tremaining: 2.39s\n",
      "200:\tlearn: 0.4865428\ttotal: 428ms\tremaining: 1.7s\n",
      "300:\tlearn: 0.4728341\ttotal: 598ms\tremaining: 1.39s\n",
      "400:\tlearn: 0.4642798\ttotal: 747ms\tremaining: 1.12s\n",
      "500:\tlearn: 0.4576927\ttotal: 963ms\tremaining: 959ms\n",
      "600:\tlearn: 0.4510090\ttotal: 1.14s\tremaining: 756ms\n",
      "700:\tlearn: 0.4459190\ttotal: 1.3s\tremaining: 553ms\n",
      "800:\tlearn: 0.4417065\ttotal: 1.47s\tremaining: 365ms\n",
      "900:\tlearn: 0.4375029\ttotal: 1.64s\tremaining: 181ms\n",
      "999:\tlearn: 0.4334596\ttotal: 1.82s\tremaining: 0us\n",
      "0:\tlearn: 0.6816351\ttotal: 22.3ms\tremaining: 22.3s\n",
      "100:\tlearn: 0.5040545\ttotal: 421ms\tremaining: 3.75s\n",
      "200:\tlearn: 0.4963946\ttotal: 629ms\tremaining: 2.5s\n",
      "300:\tlearn: 0.4915639\ttotal: 880ms\tremaining: 2.04s\n",
      "400:\tlearn: 0.4878310\ttotal: 1.11s\tremaining: 1.66s\n",
      "500:\tlearn: 0.4848958\ttotal: 1.46s\tremaining: 1.45s\n",
      "600:\tlearn: 0.4822121\ttotal: 1.65s\tremaining: 1.1s\n",
      "700:\tlearn: 0.4800954\ttotal: 1.88s\tremaining: 802ms\n",
      "800:\tlearn: 0.4776257\ttotal: 2.07s\tremaining: 515ms\n",
      "900:\tlearn: 0.4752403\ttotal: 2.39s\tremaining: 262ms\n",
      "999:\tlearn: 0.4734519\ttotal: 2.57s\tremaining: 0us\n",
      "0:\tlearn: 0.6811210\ttotal: 19.9ms\tremaining: 19.9s\n",
      "100:\tlearn: 0.4969158\ttotal: 427ms\tremaining: 3.8s\n",
      "200:\tlearn: 0.4903642\ttotal: 760ms\tremaining: 3.02s\n",
      "300:\tlearn: 0.4866801\ttotal: 1.04s\tremaining: 2.41s\n",
      "400:\tlearn: 0.4838686\ttotal: 1.34s\tremaining: 2.01s\n",
      "500:\tlearn: 0.4815163\ttotal: 1.66s\tremaining: 1.65s\n",
      "600:\tlearn: 0.4790189\ttotal: 2.02s\tremaining: 1.34s\n",
      "700:\tlearn: 0.4770820\ttotal: 2.31s\tremaining: 985ms\n",
      "800:\tlearn: 0.4753802\ttotal: 2.58s\tremaining: 640ms\n",
      "900:\tlearn: 0.4741381\ttotal: 2.85s\tremaining: 313ms\n",
      "999:\tlearn: 0.4726543\ttotal: 3.11s\tremaining: 0us\n",
      "0:\tlearn: 0.6820973\ttotal: 27.7ms\tremaining: 27.6s\n",
      "100:\tlearn: 0.4971150\ttotal: 367ms\tremaining: 3.27s\n",
      "200:\tlearn: 0.4910148\ttotal: 754ms\tremaining: 3s\n",
      "300:\tlearn: 0.4884725\ttotal: 1.14s\tremaining: 2.64s\n",
      "400:\tlearn: 0.4869876\ttotal: 1.47s\tremaining: 2.19s\n",
      "500:\tlearn: 0.4852979\ttotal: 1.78s\tremaining: 1.77s\n",
      "600:\tlearn: 0.4836167\ttotal: 2.09s\tremaining: 1.39s\n",
      "700:\tlearn: 0.4819184\ttotal: 2.42s\tremaining: 1.03s\n",
      "800:\tlearn: 0.4803740\ttotal: 2.75s\tremaining: 684ms\n",
      "900:\tlearn: 0.4786059\ttotal: 3.06s\tremaining: 337ms\n",
      "999:\tlearn: 0.4771227\ttotal: 3.38s\tremaining: 0us\n",
      "0:\tlearn: 0.6818839\ttotal: 23.8ms\tremaining: 23.8s\n",
      "100:\tlearn: 0.4977020\ttotal: 432ms\tremaining: 3.84s\n",
      "200:\tlearn: 0.4929691\ttotal: 820ms\tremaining: 3.26s\n",
      "300:\tlearn: 0.4906588\ttotal: 1.23s\tremaining: 2.85s\n",
      "400:\tlearn: 0.4886840\ttotal: 1.65s\tremaining: 2.47s\n",
      "500:\tlearn: 0.4876779\ttotal: 2.02s\tremaining: 2.01s\n",
      "600:\tlearn: 0.4861200\ttotal: 2.46s\tremaining: 1.64s\n",
      "700:\tlearn: 0.4849434\ttotal: 2.92s\tremaining: 1.25s\n",
      "800:\tlearn: 0.4838417\ttotal: 3.33s\tremaining: 829ms\n",
      "900:\tlearn: 0.4828688\ttotal: 3.82s\tremaining: 420ms\n",
      "999:\tlearn: 0.4820236\ttotal: 4.24s\tremaining: 0us\n",
      "0:\tlearn: 0.6851236\ttotal: 11.8ms\tremaining: 11.8s\n",
      "100:\tlearn: 0.5413007\ttotal: 292ms\tremaining: 2.6s\n",
      "200:\tlearn: 0.5318701\ttotal: 431ms\tremaining: 1.71s\n",
      "300:\tlearn: 0.5203647\ttotal: 586ms\tremaining: 1.36s\n",
      "400:\tlearn: 0.5099901\ttotal: 735ms\tremaining: 1.1s\n",
      "500:\tlearn: 0.5028879\ttotal: 892ms\tremaining: 889ms\n",
      "600:\tlearn: 0.4971118\ttotal: 1.08s\tremaining: 717ms\n",
      "700:\tlearn: 0.4920238\ttotal: 1.25s\tremaining: 535ms\n",
      "800:\tlearn: 0.4876327\ttotal: 1.4s\tremaining: 348ms\n",
      "900:\tlearn: 0.4834817\ttotal: 1.56s\tremaining: 172ms\n",
      "999:\tlearn: 0.4801743\ttotal: 1.71s\tremaining: 0us\n",
      "0:\tlearn: 0.6824236\ttotal: 16.6ms\tremaining: 16.6s\n",
      "100:\tlearn: 0.5176764\ttotal: 277ms\tremaining: 2.46s\n",
      "200:\tlearn: 0.5132643\ttotal: 484ms\tremaining: 1.92s\n",
      "300:\tlearn: 0.5105632\ttotal: 704ms\tremaining: 1.64s\n",
      "400:\tlearn: 0.5075142\ttotal: 916ms\tremaining: 1.37s\n",
      "500:\tlearn: 0.5051056\ttotal: 1.13s\tremaining: 1.13s\n",
      "600:\tlearn: 0.5022717\ttotal: 1.34s\tremaining: 890ms\n",
      "700:\tlearn: 0.5001804\ttotal: 1.56s\tremaining: 667ms\n",
      "800:\tlearn: 0.4979975\ttotal: 1.78s\tremaining: 442ms\n",
      "900:\tlearn: 0.4961262\ttotal: 2.03s\tremaining: 223ms\n",
      "999:\tlearn: 0.4944737\ttotal: 2.26s\tremaining: 0us\n",
      "0:\tlearn: 0.6814872\ttotal: 12ms\tremaining: 12s\n",
      "100:\tlearn: 0.5059035\ttotal: 427ms\tremaining: 3.8s\n",
      "200:\tlearn: 0.5001275\ttotal: 772ms\tremaining: 3.07s\n",
      "300:\tlearn: 0.4964763\ttotal: 1.04s\tremaining: 2.42s\n",
      "400:\tlearn: 0.4936588\ttotal: 1.35s\tremaining: 2.02s\n",
      "500:\tlearn: 0.4908912\ttotal: 1.68s\tremaining: 1.68s\n",
      "600:\tlearn: 0.4884656\ttotal: 1.96s\tremaining: 1.3s\n",
      "700:\tlearn: 0.4867370\ttotal: 2.25s\tremaining: 958ms\n",
      "800:\tlearn: 0.4849007\ttotal: 2.55s\tremaining: 633ms\n",
      "900:\tlearn: 0.4833112\ttotal: 2.96s\tremaining: 326ms\n",
      "999:\tlearn: 0.4819535\ttotal: 3.37s\tremaining: 0us\n",
      "0:\tlearn: 0.6823048\ttotal: 43.3ms\tremaining: 43.2s\n",
      "100:\tlearn: 0.5045627\ttotal: 418ms\tremaining: 3.72s\n",
      "200:\tlearn: 0.4998605\ttotal: 742ms\tremaining: 2.95s\n",
      "300:\tlearn: 0.4976247\ttotal: 1.07s\tremaining: 2.49s\n",
      "400:\tlearn: 0.4952802\ttotal: 1.43s\tremaining: 2.13s\n",
      "500:\tlearn: 0.4930687\ttotal: 1.81s\tremaining: 1.8s\n",
      "600:\tlearn: 0.4912788\ttotal: 2.22s\tremaining: 1.48s\n",
      "700:\tlearn: 0.4896386\ttotal: 2.6s\tremaining: 1.11s\n",
      "800:\tlearn: 0.4883174\ttotal: 2.96s\tremaining: 735ms\n",
      "900:\tlearn: 0.4870883\ttotal: 3.33s\tremaining: 366ms\n",
      "999:\tlearn: 0.4860013\ttotal: 3.7s\tremaining: 0us\n",
      "0:\tlearn: 0.6821257\ttotal: 13.3ms\tremaining: 13.3s\n",
      "100:\tlearn: 0.5037090\ttotal: 447ms\tremaining: 3.98s\n",
      "200:\tlearn: 0.4990584\ttotal: 919ms\tremaining: 3.65s\n",
      "300:\tlearn: 0.4968135\ttotal: 1.38s\tremaining: 3.2s\n",
      "400:\tlearn: 0.4943214\ttotal: 1.9s\tremaining: 2.83s\n",
      "500:\tlearn: 0.4923694\ttotal: 2.35s\tremaining: 2.34s\n",
      "600:\tlearn: 0.4907054\ttotal: 2.81s\tremaining: 1.86s\n",
      "700:\tlearn: 0.4893366\ttotal: 3.24s\tremaining: 1.38s\n",
      "800:\tlearn: 0.4879176\ttotal: 3.72s\tremaining: 925ms\n",
      "900:\tlearn: 0.4867776\ttotal: 4.18s\tremaining: 459ms\n",
      "999:\tlearn: 0.4857856\ttotal: 4.64s\tremaining: 0us\n",
      "0:\tlearn: 0.6851236\ttotal: 16.3ms\tremaining: 16.3s\n",
      "100:\tlearn: 0.5413007\ttotal: 182ms\tremaining: 1.62s\n",
      "200:\tlearn: 0.5318701\ttotal: 363ms\tremaining: 1.44s\n",
      "300:\tlearn: 0.5203647\ttotal: 522ms\tremaining: 1.21s\n",
      "400:\tlearn: 0.5099901\ttotal: 704ms\tremaining: 1.05s\n",
      "500:\tlearn: 0.5028879\ttotal: 888ms\tremaining: 885ms\n",
      "600:\tlearn: 0.4971118\ttotal: 1.07s\tremaining: 713ms\n",
      "700:\tlearn: 0.4920238\ttotal: 1.25s\tremaining: 535ms\n",
      "800:\tlearn: 0.4876327\ttotal: 1.46s\tremaining: 362ms\n",
      "900:\tlearn: 0.4834817\ttotal: 1.63s\tremaining: 179ms\n",
      "999:\tlearn: 0.4801743\ttotal: 1.83s\tremaining: 0us\n",
      "0:\tlearn: 0.6834691\ttotal: 17.1ms\tremaining: 17.1s\n",
      "100:\tlearn: 0.5257365\ttotal: 289ms\tremaining: 2.57s\n",
      "200:\tlearn: 0.5204746\ttotal: 519ms\tremaining: 2.06s\n",
      "300:\tlearn: 0.5176050\ttotal: 765ms\tremaining: 1.78s\n",
      "400:\tlearn: 0.5146909\ttotal: 1.03s\tremaining: 1.53s\n",
      "500:\tlearn: 0.5119657\ttotal: 1.29s\tremaining: 1.29s\n",
      "600:\tlearn: 0.5095332\ttotal: 1.55s\tremaining: 1.03s\n",
      "700:\tlearn: 0.5069072\ttotal: 1.82s\tremaining: 775ms\n",
      "800:\tlearn: 0.5051245\ttotal: 2.07s\tremaining: 515ms\n",
      "900:\tlearn: 0.5033239\ttotal: 2.34s\tremaining: 257ms\n",
      "999:\tlearn: 0.5016767\ttotal: 2.66s\tremaining: 0us\n",
      "0:\tlearn: 0.6815328\ttotal: 18.9ms\tremaining: 18.9s\n",
      "100:\tlearn: 0.5026881\ttotal: 344ms\tremaining: 3.06s\n",
      "200:\tlearn: 0.4972471\ttotal: 638ms\tremaining: 2.54s\n",
      "300:\tlearn: 0.4944734\ttotal: 926ms\tremaining: 2.15s\n",
      "400:\tlearn: 0.4923294\ttotal: 1.2s\tremaining: 1.8s\n",
      "500:\tlearn: 0.4908326\ttotal: 1.5s\tremaining: 1.5s\n",
      "600:\tlearn: 0.4891673\ttotal: 1.82s\tremaining: 1.21s\n",
      "700:\tlearn: 0.4873273\ttotal: 2.14s\tremaining: 914ms\n",
      "800:\tlearn: 0.4856585\ttotal: 2.48s\tremaining: 617ms\n",
      "900:\tlearn: 0.4844743\ttotal: 2.82s\tremaining: 310ms\n",
      "999:\tlearn: 0.4834976\ttotal: 3.18s\tremaining: 0us\n",
      "0:\tlearn: 0.6822838\ttotal: 4.54ms\tremaining: 4.54s\n",
      "100:\tlearn: 0.5033588\ttotal: 371ms\tremaining: 3.3s\n",
      "200:\tlearn: 0.4987042\ttotal: 744ms\tremaining: 2.96s\n",
      "300:\tlearn: 0.4961955\ttotal: 1.12s\tremaining: 2.59s\n",
      "400:\tlearn: 0.4940476\ttotal: 1.51s\tremaining: 2.26s\n",
      "500:\tlearn: 0.4920391\ttotal: 1.9s\tremaining: 1.89s\n",
      "600:\tlearn: 0.4905504\ttotal: 2.27s\tremaining: 1.5s\n",
      "700:\tlearn: 0.4884834\ttotal: 2.71s\tremaining: 1.16s\n",
      "800:\tlearn: 0.4867051\ttotal: 3.1s\tremaining: 771ms\n",
      "900:\tlearn: 0.4852287\ttotal: 3.55s\tremaining: 390ms\n",
      "999:\tlearn: 0.4838907\ttotal: 4s\tremaining: 0us\n",
      "0:\tlearn: 0.6825854\ttotal: 43.8ms\tremaining: 43.8s\n",
      "100:\tlearn: 0.5030739\ttotal: 472ms\tremaining: 4.21s\n",
      "200:\tlearn: 0.4979167\ttotal: 887ms\tremaining: 3.52s\n",
      "300:\tlearn: 0.4957329\ttotal: 1.34s\tremaining: 3.11s\n",
      "400:\tlearn: 0.4935361\ttotal: 1.79s\tremaining: 2.67s\n",
      "500:\tlearn: 0.4919982\ttotal: 2.23s\tremaining: 2.23s\n",
      "600:\tlearn: 0.4903748\ttotal: 2.68s\tremaining: 1.78s\n",
      "700:\tlearn: 0.4887966\ttotal: 3.16s\tremaining: 1.35s\n",
      "800:\tlearn: 0.4876926\ttotal: 3.68s\tremaining: 914ms\n",
      "900:\tlearn: 0.4865588\ttotal: 4.25s\tremaining: 468ms\n",
      "999:\tlearn: 0.4854409\ttotal: 4.79s\tremaining: 0us\n",
      "0:\tlearn: 0.6851236\ttotal: 2.41ms\tremaining: 2.41s\n",
      "100:\tlearn: 0.5413007\ttotal: 169ms\tremaining: 1.51s\n",
      "200:\tlearn: 0.5318701\ttotal: 344ms\tremaining: 1.37s\n",
      "300:\tlearn: 0.5203647\ttotal: 522ms\tremaining: 1.21s\n",
      "400:\tlearn: 0.5099901\ttotal: 724ms\tremaining: 1.08s\n",
      "500:\tlearn: 0.5028879\ttotal: 1.06s\tremaining: 1.06s\n",
      "600:\tlearn: 0.4971118\ttotal: 1.26s\tremaining: 834ms\n",
      "700:\tlearn: 0.4920238\ttotal: 1.44s\tremaining: 615ms\n",
      "800:\tlearn: 0.4876327\ttotal: 1.65s\tremaining: 409ms\n",
      "900:\tlearn: 0.4834817\ttotal: 1.84s\tremaining: 203ms\n",
      "999:\tlearn: 0.4801743\ttotal: 2.05s\tremaining: 0us\n",
      "0:\tlearn: 0.6834691\ttotal: 5.52ms\tremaining: 5.51s\n",
      "100:\tlearn: 0.5257365\ttotal: 259ms\tremaining: 2.31s\n",
      "200:\tlearn: 0.5204746\ttotal: 754ms\tremaining: 3s\n",
      "300:\tlearn: 0.5176050\ttotal: 942ms\tremaining: 2.19s\n",
      "400:\tlearn: 0.5146909\ttotal: 1.2s\tremaining: 1.8s\n",
      "500:\tlearn: 0.5119657\ttotal: 1.61s\tremaining: 1.61s\n",
      "600:\tlearn: 0.5095332\ttotal: 1.9s\tremaining: 1.26s\n",
      "700:\tlearn: 0.5069072\ttotal: 2.2s\tremaining: 939ms\n",
      "800:\tlearn: 0.5051245\ttotal: 2.51s\tremaining: 624ms\n",
      "900:\tlearn: 0.5033239\ttotal: 2.74s\tremaining: 301ms\n",
      "999:\tlearn: 0.5016767\ttotal: 2.98s\tremaining: 0us\n",
      "0:\tlearn: 0.6820745\ttotal: 14.1ms\tremaining: 14.1s\n",
      "100:\tlearn: 0.5095024\ttotal: 362ms\tremaining: 3.22s\n",
      "200:\tlearn: 0.5039198\ttotal: 635ms\tremaining: 2.53s\n",
      "300:\tlearn: 0.5010968\ttotal: 910ms\tremaining: 2.11s\n",
      "400:\tlearn: 0.4994173\ttotal: 1.19s\tremaining: 1.77s\n",
      "500:\tlearn: 0.4974282\ttotal: 1.51s\tremaining: 1.5s\n",
      "600:\tlearn: 0.4956530\ttotal: 1.83s\tremaining: 1.22s\n",
      "700:\tlearn: 0.4938901\ttotal: 2.17s\tremaining: 925ms\n",
      "800:\tlearn: 0.4921111\ttotal: 2.5s\tremaining: 620ms\n",
      "900:\tlearn: 0.4907267\ttotal: 2.81s\tremaining: 309ms\n",
      "999:\tlearn: 0.4894787\ttotal: 3.13s\tremaining: 0us\n",
      "0:\tlearn: 0.6822047\ttotal: 4.32ms\tremaining: 4.32s\n",
      "100:\tlearn: 0.5057295\ttotal: 369ms\tremaining: 3.28s\n",
      "200:\tlearn: 0.5005011\ttotal: 781ms\tremaining: 3.1s\n",
      "300:\tlearn: 0.4978025\ttotal: 1.15s\tremaining: 2.66s\n",
      "400:\tlearn: 0.4957049\ttotal: 1.58s\tremaining: 2.35s\n",
      "500:\tlearn: 0.4937937\ttotal: 1.99s\tremaining: 1.98s\n",
      "600:\tlearn: 0.4923354\ttotal: 2.39s\tremaining: 1.58s\n",
      "700:\tlearn: 0.4905731\ttotal: 2.75s\tremaining: 1.17s\n",
      "800:\tlearn: 0.4891273\ttotal: 3.14s\tremaining: 780ms\n",
      "900:\tlearn: 0.4877311\ttotal: 3.54s\tremaining: 389ms\n",
      "999:\tlearn: 0.4865572\ttotal: 3.92s\tremaining: 0us\n",
      "0:\tlearn: 0.6819607\ttotal: 11.5ms\tremaining: 11.5s\n",
      "100:\tlearn: 0.5043202\ttotal: 389ms\tremaining: 3.47s\n",
      "200:\tlearn: 0.4993968\ttotal: 836ms\tremaining: 3.32s\n",
      "300:\tlearn: 0.4973865\ttotal: 1.29s\tremaining: 3s\n",
      "400:\tlearn: 0.4955472\ttotal: 1.73s\tremaining: 2.58s\n",
      "500:\tlearn: 0.4938318\ttotal: 2.19s\tremaining: 2.18s\n",
      "600:\tlearn: 0.4921279\ttotal: 2.63s\tremaining: 1.75s\n",
      "700:\tlearn: 0.4908169\ttotal: 3.32s\tremaining: 1.42s\n",
      "800:\tlearn: 0.4893477\ttotal: 3.73s\tremaining: 927ms\n",
      "900:\tlearn: 0.4884243\ttotal: 4.18s\tremaining: 459ms\n",
      "999:\tlearn: 0.4873408\ttotal: 4.64s\tremaining: 0us\n",
      "0:\tlearn: 0.6851236\ttotal: 3.05ms\tremaining: 3.05s\n",
      "100:\tlearn: 0.5413007\ttotal: 197ms\tremaining: 1.75s\n",
      "200:\tlearn: 0.5318701\ttotal: 346ms\tremaining: 1.38s\n",
      "300:\tlearn: 0.5203647\ttotal: 643ms\tremaining: 1.49s\n",
      "400:\tlearn: 0.5099901\ttotal: 828ms\tremaining: 1.24s\n",
      "500:\tlearn: 0.5028879\ttotal: 1.1s\tremaining: 1.1s\n",
      "600:\tlearn: 0.4971118\ttotal: 1.41s\tremaining: 937ms\n",
      "700:\tlearn: 0.4920238\ttotal: 1.58s\tremaining: 674ms\n",
      "800:\tlearn: 0.4876327\ttotal: 1.77s\tremaining: 440ms\n",
      "900:\tlearn: 0.4834817\ttotal: 1.95s\tremaining: 214ms\n",
      "999:\tlearn: 0.4801743\ttotal: 2.15s\tremaining: 0us\n",
      "0:\tlearn: 0.6834691\ttotal: 12.1ms\tremaining: 12.1s\n",
      "100:\tlearn: 0.5257365\ttotal: 287ms\tremaining: 2.55s\n",
      "200:\tlearn: 0.5204746\ttotal: 503ms\tremaining: 2s\n",
      "300:\tlearn: 0.5176050\ttotal: 773ms\tremaining: 1.79s\n",
      "400:\tlearn: 0.5146909\ttotal: 1.03s\tremaining: 1.54s\n",
      "500:\tlearn: 0.5119657\ttotal: 1.3s\tremaining: 1.29s\n",
      "600:\tlearn: 0.5095332\ttotal: 1.56s\tremaining: 1.04s\n",
      "700:\tlearn: 0.5069072\ttotal: 1.82s\tremaining: 776ms\n",
      "800:\tlearn: 0.5051245\ttotal: 2.07s\tremaining: 515ms\n",
      "900:\tlearn: 0.5033239\ttotal: 2.35s\tremaining: 258ms\n",
      "999:\tlearn: 0.5016767\ttotal: 2.63s\tremaining: 0us\n",
      "0:\tlearn: 0.6820745\ttotal: 5.01ms\tremaining: 5s\n",
      "100:\tlearn: 0.5095024\ttotal: 325ms\tremaining: 2.89s\n",
      "200:\tlearn: 0.5039198\ttotal: 638ms\tremaining: 2.54s\n",
      "300:\tlearn: 0.5010968\ttotal: 941ms\tremaining: 2.19s\n",
      "400:\tlearn: 0.4994173\ttotal: 1.26s\tremaining: 1.88s\n",
      "500:\tlearn: 0.4974282\ttotal: 1.58s\tremaining: 1.57s\n",
      "600:\tlearn: 0.4956530\ttotal: 1.91s\tremaining: 1.27s\n",
      "700:\tlearn: 0.4938901\ttotal: 2.24s\tremaining: 956ms\n",
      "800:\tlearn: 0.4921111\ttotal: 2.6s\tremaining: 647ms\n",
      "900:\tlearn: 0.4907267\ttotal: 2.93s\tremaining: 322ms\n",
      "999:\tlearn: 0.4894787\ttotal: 3.25s\tremaining: 0us\n",
      "0:\tlearn: 0.6818816\ttotal: 11.5ms\tremaining: 11.5s\n",
      "100:\tlearn: 0.5024026\ttotal: 399ms\tremaining: 3.56s\n",
      "200:\tlearn: 0.4976786\ttotal: 742ms\tremaining: 2.95s\n",
      "300:\tlearn: 0.4952189\ttotal: 1.11s\tremaining: 2.58s\n",
      "400:\tlearn: 0.4933862\ttotal: 1.48s\tremaining: 2.21s\n",
      "500:\tlearn: 0.4916643\ttotal: 1.88s\tremaining: 1.87s\n",
      "600:\tlearn: 0.4900726\ttotal: 2.25s\tremaining: 1.49s\n",
      "700:\tlearn: 0.4885205\ttotal: 2.64s\tremaining: 1.13s\n",
      "800:\tlearn: 0.4870771\ttotal: 3.02s\tremaining: 749ms\n",
      "900:\tlearn: 0.4860373\ttotal: 3.42s\tremaining: 376ms\n",
      "999:\tlearn: 0.4850394\ttotal: 3.81s\tremaining: 0us\n",
      "0:\tlearn: 0.6822343\ttotal: 10.3ms\tremaining: 10.2s\n",
      "100:\tlearn: 0.5005911\ttotal: 454ms\tremaining: 4.04s\n",
      "200:\tlearn: 0.4956648\ttotal: 871ms\tremaining: 3.46s\n",
      "300:\tlearn: 0.4935605\ttotal: 1.28s\tremaining: 2.97s\n",
      "400:\tlearn: 0.4919981\ttotal: 1.73s\tremaining: 2.59s\n",
      "500:\tlearn: 0.4906070\ttotal: 2.2s\tremaining: 2.19s\n",
      "600:\tlearn: 0.4894060\ttotal: 2.76s\tremaining: 1.83s\n",
      "700:\tlearn: 0.4884003\ttotal: 3.29s\tremaining: 1.4s\n",
      "800:\tlearn: 0.4872832\ttotal: 3.91s\tremaining: 971ms\n",
      "900:\tlearn: 0.4861243\ttotal: 4.47s\tremaining: 491ms\n",
      "999:\tlearn: 0.4849450\ttotal: 4.95s\tremaining: 0us\n"
     ]
    },
    {
     "data": {
      "image/png": "[encoded data removed]",
      "text/plain": [
       "<Figure size 640x480 with 1 Axes>"
      ]
     },
     "metadata": {},
     "output_type": "display_data"
    }
   ],
   "source": [
    "train_sizes, train_scores, test_scores = learning_curve(model, X_train, y_train, cv=5)\n",
    "plt.plot(train_sizes, np.mean(train_scores, axis=1), label='Трейн')\n",
    "plt.plot(train_sizes, np.mean(test_scores, axis=1), label='Валидация')\n",
    "plt.xlabel('Размер обучающей выборки')\n",
    "plt.ylabel('Скор')\n",
    "plt.legend()\n",
    "plt.title('Обучающая кривая')\n",
    "plt.show()"
   ]
  },
  {
   "cell_type": "markdown",
   "id": "92367798-24e5-4bcd-82da-a67ab02f18d7",
   "metadata": {},
   "source": [
    "Catboost не улучшил ситуацию. Точность немного выше, приэтом переобучение больше выражено на последнем графике. Можно подумать или об утечке теста в трейн, или о малом датасете."
   ]
  },
  {
   "cell_type": "markdown",
   "id": "f98e602d-7a34-490a-bc1e-189f7b4e2a16",
   "metadata": {},
   "source": [
    "Спасибо за прочтение!"
   ]
  }
 ],
 "metadata": {
  "kernelspec": {
   "display_name": "Biocad kernel",
   "language": "python",
   "name": "biocad_kernel"
  },
  "language_info": {
   "codemirror_mode": {
    "name": "ipython",
    "version": 3
   },
   "file_extension": ".py",
   "mimetype": "text/x-python",
   "name": "python",
   "nbconvert_exporter": "python",
   "pygments_lexer": "ipython3",
   "version": "3.11.4"
  }
 },
 "nbformat": 4,
 "nbformat_minor": 5
}
